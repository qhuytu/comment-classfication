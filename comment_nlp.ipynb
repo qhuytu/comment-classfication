{
 "cells": [
  {
   "cell_type": "code",
   "execution_count": 1,
   "source": [
    "import numpy as np\n",
    "import pandas as pd\n",
    "\n",
    "import os\n",
    "for dirname, _, filenames in os.walk('./input'):\n",
    "    for filename in filenames:\n",
    "        print(os.path.join(dirname, filename))"
   ],
   "outputs": [
    {
     "output_type": "stream",
     "name": "stdout",
     "text": [
      "./input/test_rejection.csv\n",
      "./input/comment_input.csv\n"
     ]
    }
   ],
   "metadata": {}
  },
  {
   "cell_type": "code",
   "execution_count": 2,
   "source": [
    "import findspark\n",
    "findspark.init()"
   ],
   "outputs": [],
   "metadata": {}
  },
  {
   "cell_type": "code",
   "execution_count": 3,
   "source": [
    "import pyspark\n",
    "from pyspark.sql import SparkSession\n",
    "\n",
    "spark = SparkSession.builder.appName('comment_nlp').config(\"spark.driver.memory\", \"6g\").getOrCreate()"
   ],
   "outputs": [
    {
     "output_type": "stream",
     "name": "stderr",
     "text": [
      "21/09/12 13:45:36 WARN Utils: Your hostname, zmediatech-huytq11 resolves to a loopback address: 127.0.0.1; using 192.168.1.17 instead (on interface wlp3s0)\n",
      "21/09/12 13:45:36 WARN Utils: Set SPARK_LOCAL_IP if you need to bind to another address\n",
      "21/09/12 13:45:36 WARN NativeCodeLoader: Unable to load native-hadoop library for your platform... using builtin-java classes where applicable\n",
      "Using Spark's default log4j profile: org/apache/spark/log4j-defaults.properties\n",
      "Setting default log level to \"WARN\".\n",
      "To adjust logging level use sc.setLogLevel(newLevel). For SparkR, use setLogLevel(newLevel).\n"
     ]
    }
   ],
   "metadata": {}
  },
  {
   "cell_type": "code",
   "execution_count": 4,
   "source": [
    "rawData = spark.read.csv('./input/comment_input.csv', inferSchema=True, header=True)\n",
    "\n",
    "rawData.show()"
   ],
   "outputs": [
    {
     "output_type": "stream",
     "name": "stderr",
     "text": []
    },
    {
     "output_type": "stream",
     "name": "stdout",
     "text": [
      "+--------------------+------+\n",
      "|             content|status|\n",
      "+--------------------+------+\n",
      "|          có mẹ nuôi|     1|\n",
      "|   Happy new year..!|     1|\n",
      "|31/12/2020 co ai ...|     1|\n",
      "|     00h00’ 1/1/2021|     1|\n",
      "|         2021!!!!!!!|     1|\n",
      "|Có hát ngay đoạn đầu|     1|\n",
      "|        tang 1 nguoi|     1|\n",
      "|Happy new year 🎉...|     0|\n",
      "| tang em ng iu cua a|     1|\n",
      "|ai vừa xem xong v...|     1|\n",
      "|      happy new year|     1|\n",
      "|A DiĐà Phật, happ...|     1|\n",
      "|Giờ không ai nhớ ...|     1|\n",
      "|Từ khi mất e đến ...|     1|\n",
      "|   năm mới rồi mn ơi|     1|\n",
      "|  phi điểu và ve sầu|     1|\n",
      "|1/1/2021❤ yêu tất...|     1|\n",
      "|        Sơn tùng mtp|     1|\n",
      "|    1-1-2021 tykmmmm|     1|\n",
      "|          1/1/2021:3|     1|\n",
      "+--------------------+------+\n",
      "only showing top 20 rows\n",
      "\n"
     ]
    }
   ],
   "metadata": {}
  },
  {
   "cell_type": "code",
   "execution_count": 196,
   "source": [
    "rawData.printSchema()"
   ],
   "outputs": [
    {
     "output_type": "stream",
     "name": "stdout",
     "text": [
      "root\n",
      " |-- content: string (nullable = true)\n",
      " |-- status: integer (nullable = true)\n",
      "\n"
     ]
    }
   ],
   "metadata": {}
  },
  {
   "cell_type": "code",
   "execution_count": 197,
   "source": [
    "rawData.summary().show()"
   ],
   "outputs": [
    {
     "output_type": "stream",
     "name": "stderr",
     "text": [
      "+-------+-------------------+------------------+\n",
      "|summary|            content|            status|\n",
      "+-------+-------------------+------------------+\n",
      "|  count|            1019031|           1019031|\n",
      "|   mean|           Infinity|  2.15498645281645|\n",
      "| stddev|                NaN|0.3618919462764307|\n",
      "|    min|! ! ! ! !!!!!!!!!!!|                 2|\n",
      "|    25%|       9.25338341E8|                 2|\n",
      "|    50%|      2.194668604E9|                 2|\n",
      "|    75%|             1.0E14|                 2|\n",
      "|    max|         🫔👍👍👍👍|                 3|\n",
      "+-------+-------------------+------------------+\n",
      "\n"
     ]
    }
   ],
   "metadata": {}
  },
  {
   "cell_type": "code",
   "execution_count": 198,
   "source": [
    "# !pip install seaborn"
   ],
   "outputs": [],
   "metadata": {}
  },
  {
   "cell_type": "code",
   "execution_count": 199,
   "source": [
    "# import seaborn as sns\n",
    "\n",
    "# sns.distplot(rawData.select('status').toPandas())"
   ],
   "outputs": [],
   "metadata": {}
  },
  {
   "cell_type": "code",
   "execution_count": 200,
   "source": [
    "# rawData.groupBy('status').count().toPandas()"
   ],
   "outputs": [],
   "metadata": {}
  },
  {
   "cell_type": "code",
   "execution_count": 5,
   "source": [
    "SPLITTED_PATH = './splitted'\n",
    "\n",
    "rawData.repartition(20).write.partitionBy(\"status\").csv(SPLITTED_PATH, mode=\"overwrite\")\n",
    "\n",
    "for dirname, _, filenames in os.walk(SPLITTED_PATH):\n",
    "    for filename in filenames:\n",
    "        print(os.path.join(dirname, filename))"
   ],
   "outputs": [
    {
     "output_type": "stream",
     "name": "stderr",
     "text": []
    },
    {
     "output_type": "stream",
     "name": "stdout",
     "text": [
      "./splitted/._SUCCESS.crc\n",
      "./splitted/_SUCCESS\n",
      "./splitted/status=1/part-00009-290de1a8-e3f0-4f75-bb2a-93d642a95b23.c000.csv\n",
      "./splitted/status=1/.part-00012-290de1a8-e3f0-4f75-bb2a-93d642a95b23.c000.csv.crc\n",
      "./splitted/status=1/part-00006-290de1a8-e3f0-4f75-bb2a-93d642a95b23.c000.csv\n",
      "./splitted/status=1/part-00002-290de1a8-e3f0-4f75-bb2a-93d642a95b23.c000.csv\n",
      "./splitted/status=1/part-00015-290de1a8-e3f0-4f75-bb2a-93d642a95b23.c000.csv\n",
      "./splitted/status=1/part-00011-290de1a8-e3f0-4f75-bb2a-93d642a95b23.c000.csv\n",
      "./splitted/status=1/.part-00006-290de1a8-e3f0-4f75-bb2a-93d642a95b23.c000.csv.crc\n",
      "./splitted/status=1/.part-00001-290de1a8-e3f0-4f75-bb2a-93d642a95b23.c000.csv.crc\n",
      "./splitted/status=1/.part-00014-290de1a8-e3f0-4f75-bb2a-93d642a95b23.c000.csv.crc\n",
      "./splitted/status=1/part-00014-290de1a8-e3f0-4f75-bb2a-93d642a95b23.c000.csv\n",
      "./splitted/status=1/part-00012-290de1a8-e3f0-4f75-bb2a-93d642a95b23.c000.csv\n",
      "./splitted/status=1/.part-00004-290de1a8-e3f0-4f75-bb2a-93d642a95b23.c000.csv.crc\n",
      "./splitted/status=1/part-00004-290de1a8-e3f0-4f75-bb2a-93d642a95b23.c000.csv\n",
      "./splitted/status=1/.part-00002-290de1a8-e3f0-4f75-bb2a-93d642a95b23.c000.csv.crc\n",
      "./splitted/status=1/part-00005-290de1a8-e3f0-4f75-bb2a-93d642a95b23.c000.csv\n",
      "./splitted/status=1/.part-00008-290de1a8-e3f0-4f75-bb2a-93d642a95b23.c000.csv.crc\n",
      "./splitted/status=1/part-00013-290de1a8-e3f0-4f75-bb2a-93d642a95b23.c000.csv\n",
      "./splitted/status=1/part-00016-290de1a8-e3f0-4f75-bb2a-93d642a95b23.c000.csv\n",
      "./splitted/status=1/.part-00000-290de1a8-e3f0-4f75-bb2a-93d642a95b23.c000.csv.crc\n",
      "./splitted/status=1/part-00001-290de1a8-e3f0-4f75-bb2a-93d642a95b23.c000.csv\n",
      "./splitted/status=1/.part-00017-290de1a8-e3f0-4f75-bb2a-93d642a95b23.c000.csv.crc\n",
      "./splitted/status=1/part-00003-290de1a8-e3f0-4f75-bb2a-93d642a95b23.c000.csv\n",
      "./splitted/status=1/part-00017-290de1a8-e3f0-4f75-bb2a-93d642a95b23.c000.csv\n",
      "./splitted/status=1/.part-00018-290de1a8-e3f0-4f75-bb2a-93d642a95b23.c000.csv.crc\n",
      "./splitted/status=1/.part-00005-290de1a8-e3f0-4f75-bb2a-93d642a95b23.c000.csv.crc\n",
      "./splitted/status=1/.part-00010-290de1a8-e3f0-4f75-bb2a-93d642a95b23.c000.csv.crc\n",
      "./splitted/status=1/part-00008-290de1a8-e3f0-4f75-bb2a-93d642a95b23.c000.csv\n",
      "./splitted/status=1/.part-00009-290de1a8-e3f0-4f75-bb2a-93d642a95b23.c000.csv.crc\n",
      "./splitted/status=1/.part-00003-290de1a8-e3f0-4f75-bb2a-93d642a95b23.c000.csv.crc\n",
      "./splitted/status=1/.part-00016-290de1a8-e3f0-4f75-bb2a-93d642a95b23.c000.csv.crc\n",
      "./splitted/status=1/.part-00019-290de1a8-e3f0-4f75-bb2a-93d642a95b23.c000.csv.crc\n",
      "./splitted/status=1/part-00018-290de1a8-e3f0-4f75-bb2a-93d642a95b23.c000.csv\n",
      "./splitted/status=1/.part-00013-290de1a8-e3f0-4f75-bb2a-93d642a95b23.c000.csv.crc\n",
      "./splitted/status=1/.part-00011-290de1a8-e3f0-4f75-bb2a-93d642a95b23.c000.csv.crc\n",
      "./splitted/status=1/.part-00007-290de1a8-e3f0-4f75-bb2a-93d642a95b23.c000.csv.crc\n",
      "./splitted/status=1/part-00007-290de1a8-e3f0-4f75-bb2a-93d642a95b23.c000.csv\n",
      "./splitted/status=1/part-00000-290de1a8-e3f0-4f75-bb2a-93d642a95b23.c000.csv\n",
      "./splitted/status=1/part-00019-290de1a8-e3f0-4f75-bb2a-93d642a95b23.c000.csv\n",
      "./splitted/status=1/part-00010-290de1a8-e3f0-4f75-bb2a-93d642a95b23.c000.csv\n",
      "./splitted/status=1/.part-00015-290de1a8-e3f0-4f75-bb2a-93d642a95b23.c000.csv.crc\n",
      "./splitted/status=0/part-00009-290de1a8-e3f0-4f75-bb2a-93d642a95b23.c000.csv\n",
      "./splitted/status=0/.part-00012-290de1a8-e3f0-4f75-bb2a-93d642a95b23.c000.csv.crc\n",
      "./splitted/status=0/part-00006-290de1a8-e3f0-4f75-bb2a-93d642a95b23.c000.csv\n",
      "./splitted/status=0/part-00002-290de1a8-e3f0-4f75-bb2a-93d642a95b23.c000.csv\n",
      "./splitted/status=0/part-00015-290de1a8-e3f0-4f75-bb2a-93d642a95b23.c000.csv\n",
      "./splitted/status=0/part-00011-290de1a8-e3f0-4f75-bb2a-93d642a95b23.c000.csv\n",
      "./splitted/status=0/.part-00006-290de1a8-e3f0-4f75-bb2a-93d642a95b23.c000.csv.crc\n",
      "./splitted/status=0/.part-00001-290de1a8-e3f0-4f75-bb2a-93d642a95b23.c000.csv.crc\n",
      "./splitted/status=0/.part-00014-290de1a8-e3f0-4f75-bb2a-93d642a95b23.c000.csv.crc\n",
      "./splitted/status=0/part-00014-290de1a8-e3f0-4f75-bb2a-93d642a95b23.c000.csv\n",
      "./splitted/status=0/part-00012-290de1a8-e3f0-4f75-bb2a-93d642a95b23.c000.csv\n",
      "./splitted/status=0/.part-00004-290de1a8-e3f0-4f75-bb2a-93d642a95b23.c000.csv.crc\n",
      "./splitted/status=0/part-00004-290de1a8-e3f0-4f75-bb2a-93d642a95b23.c000.csv\n",
      "./splitted/status=0/.part-00002-290de1a8-e3f0-4f75-bb2a-93d642a95b23.c000.csv.crc\n",
      "./splitted/status=0/part-00005-290de1a8-e3f0-4f75-bb2a-93d642a95b23.c000.csv\n",
      "./splitted/status=0/.part-00008-290de1a8-e3f0-4f75-bb2a-93d642a95b23.c000.csv.crc\n",
      "./splitted/status=0/part-00013-290de1a8-e3f0-4f75-bb2a-93d642a95b23.c000.csv\n",
      "./splitted/status=0/part-00016-290de1a8-e3f0-4f75-bb2a-93d642a95b23.c000.csv\n",
      "./splitted/status=0/.part-00000-290de1a8-e3f0-4f75-bb2a-93d642a95b23.c000.csv.crc\n",
      "./splitted/status=0/part-00001-290de1a8-e3f0-4f75-bb2a-93d642a95b23.c000.csv\n",
      "./splitted/status=0/.part-00017-290de1a8-e3f0-4f75-bb2a-93d642a95b23.c000.csv.crc\n",
      "./splitted/status=0/part-00003-290de1a8-e3f0-4f75-bb2a-93d642a95b23.c000.csv\n",
      "./splitted/status=0/part-00017-290de1a8-e3f0-4f75-bb2a-93d642a95b23.c000.csv\n",
      "./splitted/status=0/.part-00018-290de1a8-e3f0-4f75-bb2a-93d642a95b23.c000.csv.crc\n",
      "./splitted/status=0/.part-00005-290de1a8-e3f0-4f75-bb2a-93d642a95b23.c000.csv.crc\n",
      "./splitted/status=0/.part-00010-290de1a8-e3f0-4f75-bb2a-93d642a95b23.c000.csv.crc\n",
      "./splitted/status=0/part-00008-290de1a8-e3f0-4f75-bb2a-93d642a95b23.c000.csv\n",
      "./splitted/status=0/.part-00009-290de1a8-e3f0-4f75-bb2a-93d642a95b23.c000.csv.crc\n",
      "./splitted/status=0/.part-00003-290de1a8-e3f0-4f75-bb2a-93d642a95b23.c000.csv.crc\n",
      "./splitted/status=0/.part-00016-290de1a8-e3f0-4f75-bb2a-93d642a95b23.c000.csv.crc\n",
      "./splitted/status=0/.part-00019-290de1a8-e3f0-4f75-bb2a-93d642a95b23.c000.csv.crc\n",
      "./splitted/status=0/part-00018-290de1a8-e3f0-4f75-bb2a-93d642a95b23.c000.csv\n",
      "./splitted/status=0/.part-00013-290de1a8-e3f0-4f75-bb2a-93d642a95b23.c000.csv.crc\n",
      "./splitted/status=0/.part-00011-290de1a8-e3f0-4f75-bb2a-93d642a95b23.c000.csv.crc\n",
      "./splitted/status=0/.part-00007-290de1a8-e3f0-4f75-bb2a-93d642a95b23.c000.csv.crc\n",
      "./splitted/status=0/part-00007-290de1a8-e3f0-4f75-bb2a-93d642a95b23.c000.csv\n",
      "./splitted/status=0/part-00000-290de1a8-e3f0-4f75-bb2a-93d642a95b23.c000.csv\n",
      "./splitted/status=0/part-00019-290de1a8-e3f0-4f75-bb2a-93d642a95b23.c000.csv\n",
      "./splitted/status=0/part-00010-290de1a8-e3f0-4f75-bb2a-93d642a95b23.c000.csv\n",
      "./splitted/status=0/.part-00015-290de1a8-e3f0-4f75-bb2a-93d642a95b23.c000.csv.crc\n"
     ]
    }
   ],
   "metadata": {
    "tags": []
   }
  },
  {
   "cell_type": "code",
   "execution_count": 6,
   "source": [
    "schemaDdl = \"content STRING, status INTEGER\"\n",
    "\n",
    "sparkReader = spark.read.schema(schemaDdl)\n",
    "\n",
    "splittedData = sparkReader.csv(SPLITTED_PATH)"
   ],
   "outputs": [],
   "metadata": {}
  },
  {
   "cell_type": "code",
   "execution_count": 7,
   "source": [
    "from pyspark.sql import functions as f\n",
    "from pyspark.sql.functions import udf\n",
    "import re\n",
    "import html\n",
    "\n",
    "hashtag_regex = r\"#(\\w{1,})\"\n",
    "url_regex = r\"(?i)\\b((?:https?://|www\\d{0,3}[.]|[a-z0-9.\\-]+[.][a-z]{2,4}/)(?:[^\\s()<>]+|\\(([^\\s()<>]+|(\\([^\\s()<>]+\\)))*\\))+(?:\\(([^\\s()<>]+|(\\([^\\s()<>]+\\)))*\\)|[^\\s`!()\\[\\]{};:'\\\".,<>?«»“”‘’]))\"\n",
    "email_regex = r'\\b[A-Za-z0-9._%+-]+@[A-Za-z0-9.-]+\\.[A-Z|a-z]{2,}\\b'\n",
    "not_char_regex = \"[^a-zA-ZaAàÀảẢãÃáÁạẠăĂằẰẳẲẵẴắẮặẶâÂầẦẩẨẫẪấẤậẬbBcCdDđĐeEèÈẻẺẽẼéÉẹẸêÊềỀểỂễỄếẾệỆfFgGhHiIìÌỉỈĩĨíÍịỊjJkKlLmMnNoOòÒỏỎõÕóÓọỌôÔồỒổỔỗỖốỐộỘơƠờỜởỞỡỠớỚợỢpPqQrRsStTuUùÙủỦũŨúÚụỤưƯừỪửỬữỮứỨựỰvVwWxXyYỳỲỷỶỹỸýÝỵỴzZ]\"\n",
    "\n",
    "@udf\n",
    "def html_unescape(s: str):\n",
    "    return html.unescape(s)\n",
    "\n",
    "processedData = (\n",
    "    splittedData\n",
    "    .withColumn(\"content\", f.regexp_replace(f.col(\"content\"), hashtag_regex, \"$1\"))\n",
    "    .withColumn(\"content\", f.regexp_replace(f.col(\"content\"), url_regex, \"\"))\n",
    "    .withColumn(\"content\", f.regexp_replace(f.col(\"content\"), email_regex, \"\"))\n",
    "    .withColumn(\"content\", html_unescape(\"content\"))\n",
    "    .withColumn(\"content\", f.regexp_replace(f.col(\"content\"), not_char_regex, \" \"))\n",
    "    .withColumn(\"content\", f.regexp_replace(f.col(\"content\"), \" +\", \" \"))\n",
    "    .withColumn(\"content\", f.trim(f.col(\"content\")))\n",
    ").filter(\"content != ''\").select(\"content\", \"status\").coalesce(3)\n",
    "\n",
    "processedData.show(100)"
   ],
   "outputs": [
    {
     "output_type": "stream",
     "name": "stderr",
     "text": []
    },
    {
     "output_type": "stream",
     "name": "stdout",
     "text": [
      "+--------------------+------+\n",
      "|             content|status|\n",
      "+--------------------+------+\n",
      "|tìm ny ở đây tui ...|     1|\n",
      "|tên bai hát xịn x...|     1|\n",
      "|K hay b có thể k ...|     1|\n",
      "| lượt xem tụt kìa mn|     1|\n",
      "|        Chúc mừng em|     1|\n",
      "|tất nhiên hay cho...|     1|\n",
      "|người giờ còn đây...|     1|\n",
      "|Nghe thấm thiệt ắ...|     1|\n",
      "|nhật bản nghệ an ...|     1|\n",
      "|      Mai yeu TFBOYS|     1|\n",
      "|Anh hát bài nào c...|     1|\n",
      "|Bài Sứ Thanh Hoa ...|     1|\n",
      "|hình như là nhật bản|     1|\n",
      "|Mọi người ráng lê...|     1|\n",
      "|Vì ngày hôm nay a...|     1|\n",
      "|        Thương a quá|     1|\n",
      "|       nhớ lắm nyc ạ|     1|\n",
      "|        ĐỈNH THẬT SỰ|     1|\n",
      "|        nghe mà buồn|     1|\n",
      "|cảm ơn em va moi ...|     1|\n",
      "|  soái ca thái quynh|     1|\n",
      "|        Hay lam luôn|     1|\n",
      "|bài anh mơ của an...|     1|\n",
      "|nghe mà đúng t tr...|     1|\n",
      "|         dể thuog nè|     1|\n",
      "|        vẫn còn nghe|     1|\n",
      "| thanh xuân tươi đẹp|     1|\n",
      "|             Hay quá|     1|\n",
      "|Các e giữ gìn sức...|     1|\n",
      "| bài lần này dịu quá|     1|\n",
      "|nghe hơn tháng rồ...|     1|\n",
      "|           đỉnh luôn|     1|\n",
      "|giọng ca và làn h...|     1|\n",
      "|         chi hat the|     1|\n",
      "|    Bự hát hay quá à|     1|\n",
      "|thích đoạn chao s...|     1|\n",
      "|h nghe lại nhớ hồ...|     1|\n",
      "|     hay qua troi oi|     1|\n",
      "|            hay like|     1|\n",
      "|              hà anh|     1|\n",
      "|     Yêu quá nhăm mi|     1|\n",
      "|Hay không tả nổi ...|     1|\n",
      "|           tuyệt quá|     1|\n",
      "|cố lên anh ơi tụi...|     1|\n",
      "| đóm đóm của ah jack|     1|\n",
      "|Anh chúng tôi đã ...|     1|\n",
      "|        Nó ko có đâu|     1|\n",
      "|       thấm từng câu|     1|\n",
      "|          Kookie Jin|     1|\n",
      "|Ngưỡng mộ idol to...|     1|\n",
      "| HeloEm chào anh nhé|     1|\n",
      "|        đầy ắp kí ức|     1|\n",
      "|đúng òi hay quá l...|     1|\n",
      "|Tại saooo bài hay...|     1|\n",
      "|Trong này có ai b...|     1|\n",
      "|       jach đẹp trai|     1|\n",
      "|   Còn ai nghe không|     1|\n",
      "|Con người ko có t...|     1|\n",
      "|        tui cũng vậy|     1|\n",
      "|nhạc đỉnh hay chấ...|     1|\n",
      "|              tui nè|     1|\n",
      "|nghe phát muốn có...|     1|\n",
      "|          triệu like|     1|\n",
      "|Em còn chờ gì mà ...|     1|\n",
      "|     một phút đam mê|     1|\n",
      "|mẹ là người phụ n...|     1|\n",
      "|U mê luôn á tơiìi...|     1|\n",
      "|hate mà quan tâm ...|     1|\n",
      "|đọc lời là bt ko ...|     1|\n",
      "|      Yêu jack quá à|     1|\n",
      "|nụ cười xuân hay ...|     1|\n",
      "|Ba mẹ không cần t...|     1|\n",
      "|dạo này anh thế n...|     1|\n",
      "|Nhìn chị cute quá...|     1|\n",
      "|      Tuyệt ghê hiii|     1|\n",
      "|chị hát hay quá v...|     1|\n",
      "|Chào các bà con c...|     1|\n",
      "|     hdhad liên quân|     1|\n",
      "|          hay quá mà|     1|\n",
      "|        nhớ một thời|     1|\n",
      "|sớm thức dậy ở Hộ...|     1|\n",
      "|            Đắng quá|     1|\n",
      "|Buồn vãi cuộc đời...|     1|\n",
      "|       Tuyệt vời quá|     1|\n",
      "|      blackpink love|     1|\n",
      "|Nhìn le là là lo ...|     1|\n",
      "|                 hay|     1|\n",
      "|Bài này thật sự h...|     1|\n",
      "|uây em tym đầu lu...|     1|\n",
      "|hơi bị buồn đấy n...|     1|\n",
      "|         E dừng chưa|     1|\n",
      "| ơ mây Zing gút chóp|     1|\n",
      "|   Chúc mừng năm mới|     1|\n",
      "|bên này cũng nhộn...|     1|\n",
      "|hay thìnhạc hạnh ...|     1|\n",
      "|lời xúc phạm ngườ...|     1|\n",
      "| Có bài của anh Jack|     1|\n",
      "|Nghe từ hồi lớp h...|     1|\n",
      "|hay quá nghe hoài...|     1|\n",
      "|         vẫn nghe nè|     1|\n",
      "+--------------------+------+\n",
      "only showing top 100 rows\n",
      "\n"
     ]
    },
    {
     "output_type": "stream",
     "name": "stderr",
     "text": []
    }
   ],
   "metadata": {}
  },
  {
   "cell_type": "code",
   "execution_count": 8,
   "source": [
    "(trainingData, validationData, testData) = processedData.randomSplit([0.90, 0.1, 0.1], seed=2021)"
   ],
   "outputs": [],
   "metadata": {}
  },
  {
   "cell_type": "code",
   "execution_count": 205,
   "source": [
    "# from vncorenlp import VnCoreNLP\n",
    "\n",
    "# annotator = VnCoreNLP(\"./VnCoreNLP/VnCoreNLP-1.1.1.jar\", annotators=\"wseg\", max_heap_size='-Xmx2g') \n",
    "\n",
    "# text = \"Bùi Thị Bích Phương, thường được biết đến với tên gọi quen thuộc là Bích Phương, là một nữ ca sĩ và giám khảo chương trình truyền hình người Việt Nam.\"\n",
    "\n",
    "# word_segmented_text = annotator.tokenize(text)[0]\n",
    "\n",
    "# print(word_segmented_text)"
   ],
   "outputs": [],
   "metadata": {}
  },
  {
   "cell_type": "code",
   "execution_count": 206,
   "source": [
    "# !pip install pyvi"
   ],
   "outputs": [],
   "metadata": {}
  },
  {
   "cell_type": "code",
   "execution_count": 11,
   "source": [
    "from pyspark.sql.functions import col, lower, udf, lit\n",
    "from pyspark.sql.types import ArrayType, StringType\n",
    "from pyspark.sql import DataFrame\n",
    "from pyvi import ViTokenizer, ViPosTagger\n",
    "\n",
    "tokenize_text_udf = udf(lambda s: ViPosTagger.postagging(ViTokenizer.tokenize(s))[0], ArrayType(StringType()))\n",
    "def lower_arr_str(x):\n",
    "    res = []\n",
    "    for x_ in x:\n",
    "        res.append(x_.lower())\n",
    "    return res\n",
    "to_lower_str_arr = udf(lower_arr_str, ArrayType(StringType()))\n",
    "\n",
    "def tokenize(df : DataFrame) -> DataFrame:\n",
    "    return df.withColumn(\"content1\", to_lower_str_arr(tokenize_text_udf(col(\"content\"))))\n",
    "\n",
    "trainingData = tokenize(trainingData)\n",
    "\n",
    "trainingData.show()"
   ],
   "outputs": [
    {
     "output_type": "stream",
     "name": "stderr",
     "text": []
    },
    {
     "output_type": "stream",
     "name": "stdout",
     "text": [
      "+--------------------+------+--------------------+\n",
      "|             content|status|            content1|\n",
      "+--------------------+------+--------------------+\n",
      "|A A chị tôi sao đ...|     1|[a, a, chị, tôi, ...|\n",
      "|  A Amazing Good job|     1|[a_amazing, good_...|\n",
      "|A B C D I F J K I...|     1|[a, b, c, d, i, f...|\n",
      "|       A Bo cute quá|     1|   [a_bo, cute, quá]|\n",
      "| A Bo có hát nữa à B|     1|[a_bo, có, hát, n...|\n",
      "|A Boy chẳng bao h...|     1|[a_boy, chẳng, ba...|\n",
      "|A Bình hát nhẹ nh...|     1|[a_bình, hát, nhẹ...|\n",
      "|A Bộ có gia đình ...|     1|[a_bộ, có, gia_đì...|\n",
      "|A Cao Thắng vs Ch...|     1|[a_cao_thắng, vs,...|\n",
      "|A Chi Dân hát hay...|     1|[a, chi, dân, hát...|\n",
      "|A Chi Dân vừa xa ...|     1|[a, chi_dân, vừa,...|\n",
      "|     A Chị Simmy kìa|     1|  [a_chị, simmy_kìa]|\n",
      "|A Chỗ này cũng ở ...|     1|[a_chỗ, này, cũng...|\n",
      "|A D FRIEND NHE LUV U|     1|[a, d, friend, nh...|\n",
      "|        A DI DA PHAT|     1|    [a_di, da, phat]|\n",
      "|        A DI DA PHAT|     1|    [a_di, da, phat]|\n",
      "|        A DI DA Phat|     1|     [a_di, da_phat]|\n",
      "|        A DI ĐÀ PHẬT|     1|     [a_di_đà, phật]|\n",
      "|        A DI ĐÀ PHẬT|     1|     [a_di_đà, phật]|\n",
      "|        A DI ĐÀ PHẬT|     1|     [a_di_đà, phật]|\n",
      "+--------------------+------+--------------------+\n",
      "only showing top 20 rows\n",
      "\n"
     ]
    },
    {
     "output_type": "stream",
     "name": "stderr",
     "text": []
    }
   ],
   "metadata": {}
  },
  {
   "cell_type": "code",
   "execution_count": 208,
   "source": [
    "from pyspark.ml.feature import (\n",
    "    StopWordsRemover,\n",
    "    Tokenizer,\n",
    "    HashingTF,\n",
    "    IDF\n",
    ")\n",
    "from pyspark.sql.functions import col\n",
    "from pyspark.ml.classification import LogisticRegression\n",
    "from pyspark.ml import Pipelinel\n",
    "stopwords_file = open(\"./vietnamese-stopwords.txt\", \"r\")\n",
    "stopwords_list = stopwords_file.readlines()\n",
    "\n",
    "# tokenizer = Tokenizer(inputCol=\"content\", outputCol=\"content1\")\n",
    "# trainingData = trainingData.withColumn(\"content1\", annotator.tokenize(col(\"content\")))\n",
    "\n",
    "stopwords_remover = StopWordsRemover(\n",
    "    inputCol=\"content1\",\n",
    "    outputCol=\"content2\",\n",
    "    stopWords=stopwords_list,\n",
    ")\n",
    "hashing_tf = HashingTF(\n",
    "    inputCol=\"content2\",\n",
    "    outputCol=\"term_frequency\",\n",
    ")\n",
    "idf = IDF(\n",
    "    inputCol=\"term_frequency\",\n",
    "    outputCol=\"features\",\n",
    "    minDocFreq=5\n",
    ")\n",
    "lr = LogisticRegression(labelCol=\"status\")\n",
    "\n",
    "sematic_analysis_pipeline = Pipeline(\n",
    "    # stages=[tokenizer,stopwords_remover, hashing_tf, idf, lr]\n",
    "    stages=[stopwords_remover, hashing_tf, idf, lr]\n",
    ")\n",
    "\n",
    "model = sematic_analysis_pipeline.fit(trainingData)"
   ],
   "outputs": [
    {
     "output_type": "stream",
     "name": "stderr",
     "text": [
      "21/09/05 11:29:18 WARN DAGScheduler: Broadcasting large task binary with size 4.1 MiB\n",
      "21/09/05 11:33:43 WARN DAGScheduler: Broadcasting large task binary with size 4.1 MiB\n",
      "21/09/05 11:38:18 WARN DAGScheduler: Broadcasting large task binary with size 4.1 MiB\n",
      "21/09/05 11:38:21 WARN DAGScheduler: Broadcasting large task binary with size 4.1 MiB\n",
      "21/09/05 11:38:23 WARN DAGScheduler: Broadcasting large task binary with size 4.1 MiB\n",
      "21/09/05 11:38:25 WARN DAGScheduler: Broadcasting large task binary with size 4.1 MiB\n",
      "21/09/05 11:38:28 WARN DAGScheduler: Broadcasting large task binary with size 4.1 MiB\n",
      "21/09/05 11:38:31 WARN DAGScheduler: Broadcasting large task binary with size 4.1 MiB\n",
      "21/09/05 11:38:35 WARN DAGScheduler: Broadcasting large task binary with size 4.1 MiB\n",
      "21/09/05 11:38:38 WARN DAGScheduler: Broadcasting large task binary with size 4.1 MiB\n",
      "21/09/05 11:38:41 WARN DAGScheduler: Broadcasting large task binary with size 4.1 MiB\n",
      "21/09/05 11:38:44 WARN DAGScheduler: Broadcasting large task binary with size 4.1 MiB\n",
      "21/09/05 11:38:47 WARN DAGScheduler: Broadcasting large task binary with size 4.1 MiB\n",
      "21/09/05 11:38:50 WARN DAGScheduler: Broadcasting large task binary with size 4.1 MiB\n",
      "21/09/05 11:38:53 WARN DAGScheduler: Broadcasting large task binary with size 4.1 MiB\n",
      "21/09/05 11:38:57 WARN DAGScheduler: Broadcasting large task binary with size 4.1 MiB\n",
      "21/09/05 11:39:00 WARN DAGScheduler: Broadcasting large task binary with size 4.1 MiB\n",
      "21/09/05 11:39:04 WARN DAGScheduler: Broadcasting large task binary with size 4.1 MiB\n",
      "21/09/05 11:39:07 WARN DAGScheduler: Broadcasting large task binary with size 4.1 MiB\n",
      "21/09/05 11:39:11 WARN DAGScheduler: Broadcasting large task binary with size 4.1 MiB\n",
      "21/09/05 11:39:14 WARN DAGScheduler: Broadcasting large task binary with size 4.1 MiB\n",
      "21/09/05 11:39:18 WARN DAGScheduler: Broadcasting large task binary with size 4.1 MiB\n",
      "21/09/05 11:39:21 WARN DAGScheduler: Broadcasting large task binary with size 4.1 MiB\n",
      "21/09/05 11:39:24 WARN DAGScheduler: Broadcasting large task binary with size 4.1 MiB\n",
      "21/09/05 11:39:28 WARN DAGScheduler: Broadcasting large task binary with size 4.1 MiB\n",
      "21/09/05 11:39:31 WARN DAGScheduler: Broadcasting large task binary with size 4.1 MiB\n",
      "21/09/05 11:39:34 WARN DAGScheduler: Broadcasting large task binary with size 4.1 MiB\n",
      "21/09/05 11:39:37 WARN DAGScheduler: Broadcasting large task binary with size 4.1 MiB\n",
      "21/09/05 11:39:41 WARN DAGScheduler: Broadcasting large task binary with size 4.1 MiB\n",
      "21/09/05 11:39:44 WARN DAGScheduler: Broadcasting large task binary with size 4.1 MiB\n",
      "21/09/05 11:39:47 WARN DAGScheduler: Broadcasting large task binary with size 4.1 MiB\n",
      "21/09/05 11:39:50 WARN DAGScheduler: Broadcasting large task binary with size 4.1 MiB\n",
      "21/09/05 11:39:54 WARN DAGScheduler: Broadcasting large task binary with size 4.1 MiB\n",
      "21/09/05 11:39:57 WARN DAGScheduler: Broadcasting large task binary with size 4.1 MiB\n",
      "21/09/05 11:39:59 WARN DAGScheduler: Broadcasting large task binary with size 4.1 MiB\n",
      "21/09/05 11:40:01 WARN DAGScheduler: Broadcasting large task binary with size 4.1 MiB\n",
      "21/09/05 11:40:03 WARN DAGScheduler: Broadcasting large task binary with size 4.1 MiB\n",
      "21/09/05 11:40:06 WARN DAGScheduler: Broadcasting large task binary with size 4.1 MiB\n",
      "21/09/05 11:40:08 WARN DAGScheduler: Broadcasting large task binary with size 4.1 MiB\n",
      "21/09/05 11:40:10 WARN DAGScheduler: Broadcasting large task binary with size 4.1 MiB\n",
      "21/09/05 11:40:13 WARN DAGScheduler: Broadcasting large task binary with size 4.1 MiB\n",
      "21/09/05 11:40:15 WARN DAGScheduler: Broadcasting large task binary with size 4.1 MiB\n",
      "21/09/05 11:40:17 WARN DAGScheduler: Broadcasting large task binary with size 4.1 MiB\n",
      "21/09/05 11:40:20 WARN DAGScheduler: Broadcasting large task binary with size 4.1 MiB\n",
      "21/09/05 11:40:24 WARN DAGScheduler: Broadcasting large task binary with size 4.1 MiB\n",
      "21/09/05 11:40:27 WARN DAGScheduler: Broadcasting large task binary with size 4.1 MiB\n",
      "21/09/05 11:40:29 WARN DAGScheduler: Broadcasting large task binary with size 4.1 MiB\n",
      "21/09/05 11:40:32 WARN DAGScheduler: Broadcasting large task binary with size 4.1 MiB\n",
      "21/09/05 11:40:34 WARN DAGScheduler: Broadcasting large task binary with size 4.1 MiB\n",
      "21/09/05 11:40:36 WARN DAGScheduler: Broadcasting large task binary with size 4.1 MiB\n",
      "21/09/05 11:40:38 WARN DAGScheduler: Broadcasting large task binary with size 4.1 MiB\n",
      "21/09/05 11:40:40 WARN DAGScheduler: Broadcasting large task binary with size 4.1 MiB\n",
      "21/09/05 11:40:42 WARN DAGScheduler: Broadcasting large task binary with size 4.1 MiB\n",
      "21/09/05 11:40:44 WARN DAGScheduler: Broadcasting large task binary with size 4.1 MiB\n",
      "21/09/05 11:40:45 WARN DAGScheduler: Broadcasting large task binary with size 4.1 MiB\n",
      "21/09/05 11:40:47 WARN DAGScheduler: Broadcasting large task binary with size 4.1 MiB\n",
      "21/09/05 11:40:50 WARN DAGScheduler: Broadcasting large task binary with size 4.1 MiB\n",
      "21/09/05 11:40:52 WARN DAGScheduler: Broadcasting large task binary with size 4.1 MiB\n",
      "21/09/05 11:40:54 WARN DAGScheduler: Broadcasting large task binary with size 4.1 MiB\n",
      "21/09/05 11:40:56 WARN DAGScheduler: Broadcasting large task binary with size 4.1 MiB\n",
      "21/09/05 11:40:58 WARN DAGScheduler: Broadcasting large task binary with size 4.1 MiB\n",
      "21/09/05 11:41:00 WARN DAGScheduler: Broadcasting large task binary with size 4.1 MiB\n",
      "21/09/05 11:41:02 WARN DAGScheduler: Broadcasting large task binary with size 4.1 MiB\n",
      "21/09/05 11:41:04 WARN DAGScheduler: Broadcasting large task binary with size 4.1 MiB\n",
      "21/09/05 11:41:06 WARN DAGScheduler: Broadcasting large task binary with size 4.1 MiB\n",
      "21/09/05 11:41:07 WARN DAGScheduler: Broadcasting large task binary with size 4.1 MiB\n",
      "21/09/05 11:41:09 WARN DAGScheduler: Broadcasting large task binary with size 4.1 MiB\n",
      "21/09/05 11:41:11 WARN DAGScheduler: Broadcasting large task binary with size 4.1 MiB\n",
      "21/09/05 11:41:13 WARN DAGScheduler: Broadcasting large task binary with size 4.1 MiB\n",
      "21/09/05 11:41:15 WARN DAGScheduler: Broadcasting large task binary with size 4.1 MiB\n",
      "21/09/05 11:41:17 WARN DAGScheduler: Broadcasting large task binary with size 4.1 MiB\n",
      "21/09/05 11:41:18 WARN DAGScheduler: Broadcasting large task binary with size 4.1 MiB\n",
      "21/09/05 11:41:20 WARN DAGScheduler: Broadcasting large task binary with size 4.1 MiB\n",
      "21/09/05 11:41:22 WARN DAGScheduler: Broadcasting large task binary with size 4.1 MiB\n",
      "21/09/05 11:41:24 WARN DAGScheduler: Broadcasting large task binary with size 4.1 MiB\n",
      "21/09/05 11:41:25 WARN DAGScheduler: Broadcasting large task binary with size 4.1 MiB\n",
      "21/09/05 11:41:27 WARN DAGScheduler: Broadcasting large task binary with size 4.1 MiB\n",
      "21/09/05 11:41:29 WARN DAGScheduler: Broadcasting large task binary with size 4.1 MiB\n",
      "21/09/05 11:41:31 WARN DAGScheduler: Broadcasting large task binary with size 4.1 MiB\n",
      "21/09/05 11:41:33 WARN DAGScheduler: Broadcasting large task binary with size 4.1 MiB\n",
      "21/09/05 11:41:35 WARN DAGScheduler: Broadcasting large task binary with size 4.1 MiB\n",
      "21/09/05 11:41:38 WARN DAGScheduler: Broadcasting large task binary with size 4.1 MiB\n",
      "21/09/05 11:41:41 WARN DAGScheduler: Broadcasting large task binary with size 4.1 MiB\n",
      "21/09/05 11:41:45 WARN DAGScheduler: Broadcasting large task binary with size 4.1 MiB\n",
      "21/09/05 11:41:47 WARN DAGScheduler: Broadcasting large task binary with size 4.1 MiB\n",
      "21/09/05 11:41:49 WARN DAGScheduler: Broadcasting large task binary with size 4.1 MiB\n",
      "21/09/05 11:41:52 WARN DAGScheduler: Broadcasting large task binary with size 4.1 MiB\n",
      "21/09/05 11:41:54 WARN DAGScheduler: Broadcasting large task binary with size 4.1 MiB\n",
      "21/09/05 11:41:57 WARN DAGScheduler: Broadcasting large task binary with size 4.1 MiB\n",
      "21/09/05 11:42:00 WARN DAGScheduler: Broadcasting large task binary with size 4.1 MiB\n",
      "21/09/05 11:42:03 WARN DAGScheduler: Broadcasting large task binary with size 4.1 MiB\n",
      "21/09/05 11:42:06 WARN DAGScheduler: Broadcasting large task binary with size 4.1 MiB\n",
      "21/09/05 11:42:09 WARN DAGScheduler: Broadcasting large task binary with size 4.1 MiB\n",
      "21/09/05 11:42:12 WARN DAGScheduler: Broadcasting large task binary with size 4.1 MiB\n",
      "21/09/05 11:42:15 WARN DAGScheduler: Broadcasting large task binary with size 4.1 MiB\n",
      "21/09/05 11:42:17 WARN DAGScheduler: Broadcasting large task binary with size 4.1 MiB\n",
      "21/09/05 11:42:19 WARN DAGScheduler: Broadcasting large task binary with size 4.1 MiB\n",
      "21/09/05 11:42:21 WARN DAGScheduler: Broadcasting large task binary with size 4.1 MiB\n",
      "21/09/05 11:42:23 WARN DAGScheduler: Broadcasting large task binary with size 4.1 MiB\n",
      "21/09/05 11:42:25 WARN DAGScheduler: Broadcasting large task binary with size 4.1 MiB\n",
      "21/09/05 11:42:28 WARN DAGScheduler: Broadcasting large task binary with size 4.1 MiB\n",
      "21/09/05 11:42:29 WARN DAGScheduler: Broadcasting large task binary with size 4.1 MiB\n",
      "21/09/05 11:42:32 WARN DAGScheduler: Broadcasting large task binary with size 4.1 MiB\n"
     ]
    }
   ],
   "metadata": {
    "tags": []
   }
  },
  {
   "cell_type": "code",
   "execution_count": 209,
   "source": [
    "trained_df = model.transform(trainingData)\n",
    "\n",
    "validationData = tokenize(validationData)\n",
    "testData = tokenize(testData)\n",
    "\n",
    "val_df = model.transform(validationData)\n",
    "test_df = model.transform(testData)\n",
    "\n",
    "trained_df.show()\n",
    "val_df.show()\n",
    "test_df.show()"
   ],
   "outputs": [
    {
     "output_type": "stream",
     "name": "stderr",
     "text": [
      "21/09/05 11:42:37 WARN DAGScheduler: Broadcasting large task binary with size 5.0 MiB\n",
      "+--------------------+------+--------------------+--------------------+--------------------+--------------------+--------------------+--------------------+----------+\n",
      "|             content|status|            content1|            content2|      term_frequency|            features|       rawPrediction|         probability|prediction|\n",
      "+--------------------+------+--------------------+--------------------+--------------------+--------------------+--------------------+--------------------+----------+\n",
      "|                   A|     2|                 [a]|                 [a]|(262144,[107107],...|(262144,[107107],...|[-6.2442014526571...|[1.58497780600552...|       2.0|\n",
      "|                   A|     2|                 [a]|                 [a]|(262144,[107107],...|(262144,[107107],...|[-6.2442014526571...|[1.58497780600552...|       2.0|\n",
      "|                   A|     2|                 [a]|                 [a]|(262144,[107107],...|(262144,[107107],...|[-6.2442014526571...|[1.58497780600552...|       2.0|\n",
      "|A B C D I F J K I...|     2|[a, b, c, d, i, f...|[a, b, c, d, i, f...|(262144,[19036,68...|(262144,[19036,68...|[-6.2574508419852...|[1.08809491429086...|       3.0|\n",
      "|      A Bi có khỏe k|     2|  [a_bi, có, khỏe_k]|  [a_bi, có, khỏe_k]|(262144,[6773,148...|(262144,[6773,148...|[-6.2447692995203...|[3.24832510941081...|       2.0|\n",
      "| A Bo có hát nữa à B|     2|[a_bo, có, hát, n...|[a_bo, có, hát, n...|(262144,[20130,57...|(262144,[20130,57...|[-6.2499106569854...|[5.29462166355024...|       2.0|\n",
      "|A Bo hát bài này ...|     2|[a_bo, hát, bài, ...|[a_bo, hát, bài, ...|(262144,[20130,81...|(262144,[20130,81...|[-6.2500803714857...|[2.31303753881283...|       2.0|\n",
      "|A Bình hát nhẹ nh...|     2|[a_bình, hát, nhẹ...|[a_bình, hát, nhẹ...|(262144,[20130,61...|(262144,[20130,61...|[-6.2508485040802...|[5.89491637663007...|       2.0|\n",
      "|A Bắp hát hay quá đi|     2|[a_bắp, hát, hay,...|[a_bắp, hát, hay,...|(262144,[20130,61...|(262144,[20130,61...|[-6.2497745896497...|[9.64128101055429...|       2.0|\n",
      "|A Bộ có gia đình ...|     2|[a_bộ, có, gia_đì...|[a_bộ, có, gia_đì...|(262144,[68807,13...|(262144,[68807,13...|[-6.2516357239495...|[9.97938383224967...|       2.0|\n",
      "|A Chi Dân hát hay...|     2|[a, chi, dân, hát...|[a, chi, dân, hát...|(262144,[20130,61...|(262144,[20130,61...|[-6.2527702491849...|[7.52519818338638...|       2.0|\n",
      "|   A Chuẩn Trường Ca|     2|[a, chuẩn, trường...|[a, chuẩn, trường...|(262144,[107107,2...|(262144,[107107,2...|[-6.2460289892779...|[1.42247911105637...|       2.0|\n",
      "|A Chí Vỹ đẹp trai...|     2|[a_chí_vỹ, đẹp_tr...|[a_chí_vỹ, đẹp_tr...|(262144,[31270,52...|(262144,[31270,52...|[-6.2816447852194...|[4.17406783500595...|       2.0|\n",
      "|     A Chị Simmy kìa|     2|  [a_chị, simmy_kìa]|  [a_chị, simmy_kìa]|(262144,[195214,2...|(262144,[195214,2...|[-6.2445520244883...|[1.58994544877981...|       2.0|\n",
      "|A Chỗ này cũng ở ...|     2|[a_chỗ, này, cũng...|[a_chỗ, này, cũng...|(262144,[874,7517...|(262144,[874,7517...|[-6.2512569978564...|[1.46159314640059...|       2.0|\n",
      "|A Cảnh Minh ngồi ...|     2|[a_cảnh_minh, ngồ...|[a_cảnh_minh, ngồ...|(262144,[23837,33...|(262144,[23837,33...|[-6.2925790362769...|[1.45319423379089...|       2.0|\n",
      "| A Cố Phi Tưởng Thừa|     2|[a_cố, phi_tưởng_...|[a_cố, phi_tưởng_...|(262144,[199525,2...|(262144,[199525,2...|[-6.2432107178085...|[1.71103038090989...|       2.0|\n",
      "|A D FRIEND NHE LUV U|     2|[a, d, friend, nh...|[a, d, friend, nh...|(262144,[51783,74...|(262144,[51783,74...|[-6.2529503597691...|[1.47296915592733...|       3.0|\n",
      "|        A DI DA PHAT|     2|    [a_di, da, phat]|    [a_di, da, phat]|(262144,[140286,1...|(262144,[140286,1...|[-6.2470704870916...|[1.23081073648169...|       2.0|\n",
      "|        A DI DA PHAT|     2|    [a_di, da, phat]|    [a_di, da, phat]|(262144,[140286,1...|(262144,[140286,1...|[-6.2470704870916...|[1.23081073648169...|       2.0|\n",
      "+--------------------+------+--------------------+--------------------+--------------------+--------------------+--------------------+--------------------+----------+\n",
      "only showing top 20 rows\n",
      "\n",
      "21/09/05 11:43:00 WARN DAGScheduler: Broadcasting large task binary with size 5.0 MiB\n",
      "21/09/05 11:43:20 WARN DAGScheduler: Broadcasting large task binary with size 5.0 MiB\n",
      "+--------------------+------+--------------------+--------------------+--------------------+--------------------+--------------------+--------------------+----------+\n",
      "|             content|status|            content1|            content2|      term_frequency|            features|       rawPrediction|         probability|prediction|\n",
      "+--------------------+------+--------------------+--------------------+--------------------+--------------------+--------------------+--------------------+----------+\n",
      "|      A A nghiện rồi|     2| [a, a, nghiện, rồi]| [a, a, nghiện, rồi]|(262144,[107107,1...|(262144,[107107,1...|[-6.2477639537555...|[7.11155570809686...|       2.0|\n",
      "|      A Bii ngầu quá|     2|  [a_bii, ngầu, quá]|  [a_bii, ngầu, quá]|(262144,[61044,70...|(262144,[61044,70...|[-6.2470568290344...|[1.12753186573382...|       2.0|\n",
      "|        A Di Đà Phật|     2|      [a_di_đà_phật]|      [a_di_đà_phật]|(262144,[13488],[...|(262144,[13488],[...|[-6.2447537829950...|[1.33116090205306...|       2.0|\n",
      "|        A Di Đà Phật|     2|      [a_di_đà_phật]|      [a_di_đà_phật]|(262144,[13488],[...|(262144,[13488],[...|[-6.2447537829950...|[1.33116090205306...|       2.0|\n",
      "|        A Di Đà Phật|     2|      [a_di_đà_phật]|      [a_di_đà_phật]|(262144,[13488],[...|(262144,[13488],[...|[-6.2447537829950...|[1.33116090205306...|       2.0|\n",
      "|       A Du Du hú hú|     2|   [a_du_du, hú, hú]|   [a_du_du, hú, hú]|(262144,[116616,2...|(262144,[116616,2...|[-6.2461861052715...|[1.82014891496280...|       2.0|\n",
      "|A Dương IB group ...|     2|[a_dương, ib, gro...|[a_dương, ib, gro...|(262144,[103002,1...|(262144,[103002,1...|[-6.2537376220331...|[1.81104606885173...|       3.0|\n",
      "|       A Huy khỏe ko|     2|    [a, huy_khỏe_ko]|    [a, huy_khỏe_ko]|(262144,[107107,1...|(262144,[107107,1...|[-6.2442014526571...|[1.58497780600552...|       2.0|\n",
      "|  A Jack hát hay quá|     2|[a_jack, hát, hay...|[a_jack, hát, hay...|(262144,[20130,61...|(262144,[20130,61...|[-6.2496762728020...|[6.61471161045934...|       2.0|\n",
      "|  A Jack hát hay quá|     2|[a_jack, hát, hay...|[a_jack, hát, hay...|(262144,[20130,61...|(262144,[20130,61...|[-6.2496762728020...|[6.61471161045934...|       2.0|\n",
      "|   A Mazing Good Jop|     2|[a_mazing, good_jop]|[a_mazing, good_jop]|(262144,[128988,2...|(262144,[128988,2...|[-6.2494575679224...|[1.65195220860428...|       2.0|\n",
      "|  A Siro hát hay quá|     2|[a_siro, hát, hay...|[a_siro, hát, hay...|(262144,[20130,26...|(262144,[20130,26...|[-6.2481345572158...|[1.08846063929554...|       2.0|\n",
      "|A bjk là e đó e n...|     2|[a, bjk, là, e, đ...|[a, bjk, là, e, đ...|(262144,[60336,10...|(262144,[60336,10...|[-6.2560981658419...|[1.50152362984083...|       2.0|\n",
      "|A bt e hay nghe b...|     2|[a, bt, e, hay, n...|[a, bt, e, hay, n...|(262144,[6521,743...|(262144,[6521,743...|[-6.2707457518277...|[3.55830542545624...|       2.0|\n",
      "|A cam on e nhiều ...|     2|[a, cam, on, e, n...|[a, cam, on, e, n...|(262144,[20130,27...|(262144,[20130,27...|[-6.2867305219437...|[2.34317534181284...|       2.0|\n",
      "|A chưa li hôn voi...|     2|[a, chưa, li_hôn,...|[a, chưa, li_hôn,...|(262144,[3439,363...|(262144,[3439,363...|[-6.3058143727442...|[1.45491245534773...|       2.0|\n",
      "|A chỉ ước rằng ha...|     2|[a, chỉ, ước, rằn...|[a, chỉ, ước, rằn...|(262144,[853,6764...|(262144,[853,6764...|[-6.2979190486468...|[9.66039728311233...|       2.0|\n",
      "| A chị fanny trần nè|     2|[a, chị, fanny, t...|[a, chị, fanny, t...|(262144,[874,1071...|(262144,[874,1071...|[-6.2489493035518...|[2.02788791308114...|       2.0|\n",
      "|         A cũng z nè|     2|    [a, cũng, z, nè]|    [a, cũng, z, nè]|(262144,[874,1071...|(262144,[874,1071...|[-6.2472338945736...|[1.15284715035620...|       2.0|\n",
      "|        A củng nhớ e|     2|   [a, củng, nhớ, e]|   [a, củng, nhớ, e]|(262144,[7397,107...|(262144,[7397,107...|[-6.2472935690639...|[8.89314179951137...|       2.0|\n",
      "+--------------------+------+--------------------+--------------------+--------------------+--------------------+--------------------+--------------------+----------+\n",
      "only showing top 20 rows\n",
      "\n",
      "+--------------------+------+--------------------+--------------------+--------------------+--------------------+--------------------+--------------------+----------+\n",
      "|             content|status|            content1|            content2|      term_frequency|            features|       rawPrediction|         probability|prediction|\n",
      "+--------------------+------+--------------------+--------------------+--------------------+--------------------+--------------------+--------------------+----------+\n",
      "|A Bình hát hay qu...|     2|[a_bình_hát, hay,...|[a_bình_hát, hay,...|(262144,[26753,61...|(262144,[26753,61...|[-6.2535537502919...|[6.31543638456470...|       2.0|\n",
      "|        A DI ĐÀ PHẬT|     2|     [a_di_đà, phật]|     [a_di_đà, phật]|(262144,[112512,2...|(262144,[112512,2...|[-6.2451812021849...|[1.03763672934197...|       2.0|\n",
      "|        A Di Đà Phật|     2|      [a_di_đà_phật]|      [a_di_đà_phật]|(262144,[13488],[...|(262144,[13488],[...|[-6.2447537829950...|[1.33116090205306...|       2.0|\n",
      "|        A Di Đà Phật|     2|      [a_di_đà_phật]|      [a_di_đà_phật]|(262144,[13488],[...|(262144,[13488],[...|[-6.2447537829950...|[1.33116090205306...|       2.0|\n",
      "|A DiĐà Phật happy...|     2|[a_diđà, phật, ha...|[a_diđà, phật, ha...|(262144,[89833,11...|(262144,[89833,11...|[-6.2498510582830...|[8.51244565417174...|       2.0|\n",
      "|   A Jack cố lên nhé|     2|[a_jack, cố, lên,...|[a_jack, cố, lên,...|(262144,[78109,16...|(262144,[78109,16...|[-6.2491816948359...|[6.87645721054036...|       2.0|\n",
      "|A Kang comback fi...|     2|[a_kang, comback,...|[a_kang, comback,...|(262144,[7021,216...|(262144,[7021,216...|[-6.2671537976747...|[1.51916479832482...|       2.0|\n",
      "|   A MAZING GOOG JOB|     2|[a, mazing, goog,...|[a, mazing, goog,...|(262144,[99197,10...|(262144,[99197,10...|[-6.2488489426016...|[8.38887695003995...|       2.0|\n",
      "|        A Mi Đà Phật|     2|      [a_mi_đà_phật]|      [a_mi_đà_phật]|(262144,[186254],...|(262144,[186254],...|[-6.2434515795060...|[2.66555263810066...|       2.0|\n",
      "|          A MÂY ZING|     2|      [a, mây, zing]|      [a, mây, zing]|(262144,[61416,10...|(262144,[61416,10...|[-6.2473773151681...|[1.25543411749606...|       2.0|\n",
      "|A Nhật Phong hát ...|     2|[a, nhật_phong, h...|[a, nhật_phong, h...|(262144,[20130,29...|(262144,[20130,29...|[-6.2560678143050...|[4.63578173673703...|       2.0|\n",
      "|A Quang Dũng rat ...|     2|[a_quang, dũng, r...|[a_quang, dũng, r...|(262144,[14273,48...|(262144,[14273,48...|[-6.2573105001010...|[4.93846944099507...|       2.0|\n",
      "|  A Siro rap hay hơn|     2|[a_siro, rap, hay...|[a_siro, rap, hay...|(262144,[26581,76...|(262144,[26581,76...|[-6.2472482329479...|[1.14214042676088...|       2.0|\n",
      "|    A beautiful girl|     2|[a, beautiful, girl]|[a, beautiful, girl]|(262144,[13781,10...|(262144,[13781,10...|[-6.2483543446956...|[1.04792371419733...|       2.0|\n",
      "|            A chào e|     2|        [a, chào, e]|        [a, chào, e]|(262144,[10448,10...|(262144,[10448,10...|[-6.2464188211600...|[9.27894053776928...|       2.0|\n",
      "|A chị vanh chị há...|     2|[a, chị, vanh, ch...|[a, chị, vanh, ch...|(262144,[20130,61...|(262144,[20130,61...|[-6.2531540059879...|[6.67508847457616...|       2.0|\n",
      "|A cứ theo người y...|     2|[a, cứ, theo, ngư...|[a, cứ, theo, ngư...|(262144,[77184,95...|(262144,[77184,95...|[-6.2476973428127...|[1.31055893268543...|       2.0|\n",
      "|A di Đà phậtBài t...|     2|[a_di, đà, phậtbà...|[a_di, đà, phậtbà...|(262144,[10590,89...|(262144,[10590,89...|[-6.2551909702847...|[1.75873501135013...|       2.0|\n",
      "|        A di đà phật|     2|     [a_di_đà, phật]|     [a_di_đà, phật]|(262144,[112512,2...|(262144,[112512,2...|[-6.2451812021849...|[1.03763672934197...|       2.0|\n",
      "|        A di đà phật|     2|     [a_di_đà, phật]|     [a_di_đà, phật]|(262144,[112512,2...|(262144,[112512,2...|[-6.2451812021849...|[1.03763672934197...|       2.0|\n",
      "+--------------------+------+--------------------+--------------------+--------------------+--------------------+--------------------+--------------------+----------+\n",
      "only showing top 20 rows\n",
      "\n"
     ]
    }
   ],
   "metadata": {}
  },
  {
   "cell_type": "code",
   "execution_count": 210,
   "source": [
    "from pyspark.ml.evaluation import (\n",
    "    RegressionEvaluator,\n",
    "    MulticlassClassificationEvaluator,\n",
    ")\n",
    "\n",
    "evaluator = MulticlassClassificationEvaluator(labelCol=\"status\", metricName=\"accuracy\")\n",
    "accuracy_val = evaluator.evaluate(val_df)\n",
    "accuracy_test = evaluator.evaluate(test_df)\n",
    "\n",
    "print(f\"Validation accuracy: {accuracy_val*100:.5f}%\")\n",
    "print(f\"Test accuracy: {accuracy_test*100:.5f}%\")"
   ],
   "outputs": [
    {
     "output_type": "stream",
     "name": "stderr",
     "text": [
      "21/09/05 11:43:40 WARN DAGScheduler: Broadcasting large task binary with size 5.0 MiB\n",
      "21/09/05 11:44:27 WARN DAGScheduler: Broadcasting large task binary with size 5.0 MiB\n",
      "Validation accuracy: 88.42479%\n",
      "Test accuracy: 88.51627%\n"
     ]
    }
   ],
   "metadata": {}
  },
  {
   "cell_type": "code",
   "execution_count": 211,
   "source": [
    "model.write().overwrite().save('./model/')"
   ],
   "outputs": [
    {
     "output_type": "stream",
     "name": "stderr",
     "text": [
      "21/09/05 11:45:19 WARN TaskSetManager: Stage 455 contains a task of very large size (4184 KiB). The maximum recommended task size is 1000 KiB.\n"
     ]
    }
   ],
   "metadata": {}
  }
 ],
 "metadata": {
  "kernelspec": {
   "name": "python3",
   "display_name": "Python 3.8.10 64-bit"
  },
  "language_info": {
   "codemirror_mode": {
    "name": "ipython",
    "version": 3
   },
   "file_extension": ".py",
   "mimetype": "text/x-python",
   "name": "python",
   "nbconvert_exporter": "python",
   "pygments_lexer": "ipython3",
   "version": "3.8.10"
  },
  "interpreter": {
   "hash": "916dbcbb3f70747c44a77c7bcd40155683ae19c65e1c03b4aa3499c5328201f1"
  }
 },
 "nbformat": 4,
 "nbformat_minor": 5
}