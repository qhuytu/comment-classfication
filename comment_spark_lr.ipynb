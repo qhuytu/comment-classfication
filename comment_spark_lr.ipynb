{
 "cells": [
  {
   "cell_type": "code",
   "execution_count": 6,
   "source": [
    "import findspark\n",
    "\n",
    "findspark.init()\n",
    "\n",
    "from pyspark.ml.evaluation import MulticlassClassificationEvaluator\n",
    "from pyspark.sql import SparkSession\n",
    "from pyspark.ml import Pipeline\n",
    "from pyspark.ml.classification import LogisticRegression\n",
    "from pyspark.ml.feature import IDF, HashingTF, StopWordsRemover\n",
    "\n",
    "from utils import normalizeContentDf, tokenizeDf"
   ],
   "outputs": [],
   "metadata": {}
  },
  {
   "cell_type": "code",
   "execution_count": 7,
   "source": [
    "# Create Spark Session\n",
    "spark = SparkSession.builder.appName('comment_nlp').config(\"spark.driver.memory\", \"6g\").getOrCreate()"
   ],
   "outputs": [],
   "metadata": {}
  },
  {
   "cell_type": "code",
   "execution_count": 8,
   "source": [
    "# Read raw data\n",
    "rawData = spark.read.csv('./input/train.csv', inferSchema=True, header=True)\n",
    "rawValidData = spark.read.csv('./input/validation.csv', inferSchema=True, header=True)\n",
    "rawTestData = spark.read.csv('./input/test.csv', inferSchema=True, header=True)\n",
    "\n",
    "# Split raw data\n",
    "rawData.repartition(20).write.partitionBy(\"status\").csv('./splitted/train', mode=\"overwrite\")\n",
    "rawValidData.repartition(20).write.partitionBy(\"status\").csv('./splitted/valid', mode=\"overwrite\")\n",
    "rawTestData.repartition(20).write.partitionBy(\"status\").csv('./splitted/test', mode=\"overwrite\")\n",
    "\n",
    "# Read splitted data\n",
    "schemaDdl = \"content STRING, status INTEGER\"\n",
    "sparkReader = spark.read.schema(schemaDdl)\n",
    "trainingData = sparkReader.csv('./splitted/train')\n",
    "validationData = sparkReader.csv('./splitted/valid')\n",
    "testData = sparkReader.csv('./splitted/test')"
   ],
   "outputs": [
    {
     "output_type": "stream",
     "name": "stderr",
     "text": []
    }
   ],
   "metadata": {}
  },
  {
   "cell_type": "code",
   "execution_count": 9,
   "source": [
    "# Normalize content\n",
    "trainingData = normalizeContentDf(trainingData).filter(\"content != ''\").select(\"content\", \"status\").coalesce(3)\n",
    "validationData = normalizeContentDf(validationData).filter(\"content != ''\").select(\"content\", \"status\").coalesce(3)\n",
    "testData = normalizeContentDf(testData).filter(\"content != ''\").select(\"content\", \"status\").coalesce(3)\n",
    "\n",
    "# Tokenize Vietnamese before process\n",
    "trainingData = tokenizeDf(trainingData)\n",
    "validationData = tokenizeDf(validationData)\n",
    "testData = tokenizeDf(testData)"
   ],
   "outputs": [],
   "metadata": {}
  },
  {
   "cell_type": "code",
   "execution_count": 10,
   "source": [
    "# Read Vietnamese Stopwords\n",
    "stopwords_file = open(\"./vietnamese-stopwords.txt\", \"r\")\n",
    "stopwords_list = stopwords_file.read().split('\\n')\n",
    "\n",
    "# Define pipeline\n",
    "stopwords_remover = StopWordsRemover(\n",
    "    inputCol=\"content1\",\n",
    "    outputCol=\"content2\",\n",
    "    stopWords=stopwords_list,\n",
    ")\n",
    "hashing_tf = HashingTF(\n",
    "    inputCol=\"content2\",\n",
    "    outputCol=\"term_frequency\",\n",
    ")\n",
    "idf = IDF(\n",
    "    inputCol=\"term_frequency\",\n",
    "    outputCol=\"features\",\n",
    "    minDocFreq=5\n",
    ")\n",
    "lr = LogisticRegression(labelCol=\"status\")\n",
    "sematic_analysis_pipeline = Pipeline(\n",
    "    stages=[stopwords_remover, hashing_tf, idf, lr]\n",
    ")"
   ],
   "outputs": [],
   "metadata": {}
  },
  {
   "cell_type": "code",
   "execution_count": 11,
   "source": [
    "# Create model\n",
    "model = sematic_analysis_pipeline.fit(trainingData)"
   ],
   "outputs": [
    {
     "output_type": "stream",
     "name": "stderr",
     "text": [
      "21/09/18 23:00:26 WARN DAGScheduler: Broadcasting large task binary with size 4.1 MiB\n",
      "21/09/18 23:05:52 WARN DAGScheduler: Broadcasting large task binary with size 4.1 MiB\n",
      "21/09/18 23:07:24 WARN BLAS: Failed to load implementation from: com.github.fommil.netlib.NativeSystemBLAS\n",
      "21/09/18 23:07:24 WARN BLAS: Failed to load implementation from: com.github.fommil.netlib.NativeRefBLAS\n",
      "21/09/18 23:11:49 WARN DAGScheduler: Broadcasting large task binary with size 4.1 MiB\n",
      "21/09/18 23:11:50 WARN DAGScheduler: Broadcasting large task binary with size 4.1 MiB\n",
      "21/09/18 23:11:51 WARN DAGScheduler: Broadcasting large task binary with size 4.1 MiB\n",
      "21/09/18 23:11:52 WARN DAGScheduler: Broadcasting large task binary with size 4.1 MiB\n",
      "21/09/18 23:11:52 WARN DAGScheduler: Broadcasting large task binary with size 4.1 MiB\n",
      "21/09/18 23:11:53 WARN DAGScheduler: Broadcasting large task binary with size 4.1 MiB\n",
      "21/09/18 23:11:54 WARN DAGScheduler: Broadcasting large task binary with size 4.1 MiB\n",
      "21/09/18 23:11:55 WARN DAGScheduler: Broadcasting large task binary with size 4.1 MiB\n",
      "21/09/18 23:11:55 WARN DAGScheduler: Broadcasting large task binary with size 4.1 MiB\n",
      "21/09/18 23:11:56 WARN DAGScheduler: Broadcasting large task binary with size 4.1 MiB\n",
      "21/09/18 23:11:57 WARN DAGScheduler: Broadcasting large task binary with size 4.1 MiB\n",
      "21/09/18 23:11:58 WARN DAGScheduler: Broadcasting large task binary with size 4.1 MiB\n",
      "21/09/18 23:11:58 WARN DAGScheduler: Broadcasting large task binary with size 4.1 MiB\n",
      "21/09/18 23:11:59 WARN DAGScheduler: Broadcasting large task binary with size 4.1 MiB\n",
      "21/09/18 23:12:00 WARN DAGScheduler: Broadcasting large task binary with size 4.1 MiB\n",
      "21/09/18 23:12:00 WARN DAGScheduler: Broadcasting large task binary with size 4.1 MiB\n",
      "21/09/18 23:12:01 WARN DAGScheduler: Broadcasting large task binary with size 4.1 MiB\n",
      "21/09/18 23:12:02 WARN DAGScheduler: Broadcasting large task binary with size 4.1 MiB\n",
      "21/09/18 23:12:02 WARN DAGScheduler: Broadcasting large task binary with size 4.1 MiB\n",
      "21/09/18 23:12:03 WARN DAGScheduler: Broadcasting large task binary with size 4.1 MiB\n",
      "21/09/18 23:12:04 WARN DAGScheduler: Broadcasting large task binary with size 4.1 MiB\n",
      "21/09/18 23:12:04 WARN DAGScheduler: Broadcasting large task binary with size 4.1 MiB\n",
      "21/09/18 23:12:05 WARN DAGScheduler: Broadcasting large task binary with size 4.1 MiB\n",
      "21/09/18 23:12:05 WARN DAGScheduler: Broadcasting large task binary with size 4.1 MiB\n",
      "21/09/18 23:12:06 WARN DAGScheduler: Broadcasting large task binary with size 4.1 MiB\n",
      "21/09/18 23:12:07 WARN DAGScheduler: Broadcasting large task binary with size 4.1 MiB\n",
      "21/09/18 23:12:07 WARN DAGScheduler: Broadcasting large task binary with size 4.1 MiB\n",
      "21/09/18 23:12:08 WARN DAGScheduler: Broadcasting large task binary with size 4.1 MiB\n",
      "21/09/18 23:12:08 WARN DAGScheduler: Broadcasting large task binary with size 4.1 MiB\n",
      "21/09/18 23:12:09 WARN DAGScheduler: Broadcasting large task binary with size 4.1 MiB\n",
      "21/09/18 23:12:10 WARN DAGScheduler: Broadcasting large task binary with size 4.1 MiB\n",
      "21/09/18 23:12:10 WARN DAGScheduler: Broadcasting large task binary with size 4.1 MiB\n",
      "21/09/18 23:12:11 WARN DAGScheduler: Broadcasting large task binary with size 4.1 MiB\n",
      "21/09/18 23:12:11 WARN DAGScheduler: Broadcasting large task binary with size 4.1 MiB\n",
      "21/09/18 23:12:12 WARN DAGScheduler: Broadcasting large task binary with size 4.1 MiB\n",
      "21/09/18 23:12:12 WARN DAGScheduler: Broadcasting large task binary with size 4.1 MiB\n",
      "21/09/18 23:12:13 WARN DAGScheduler: Broadcasting large task binary with size 4.1 MiB\n",
      "21/09/18 23:12:13 WARN DAGScheduler: Broadcasting large task binary with size 4.1 MiB\n",
      "21/09/18 23:12:14 WARN DAGScheduler: Broadcasting large task binary with size 4.1 MiB\n",
      "21/09/18 23:12:14 WARN DAGScheduler: Broadcasting large task binary with size 4.1 MiB\n",
      "21/09/18 23:12:15 WARN DAGScheduler: Broadcasting large task binary with size 4.1 MiB\n",
      "21/09/18 23:12:15 WARN DAGScheduler: Broadcasting large task binary with size 4.1 MiB\n",
      "21/09/18 23:12:16 WARN DAGScheduler: Broadcasting large task binary with size 4.1 MiB\n",
      "21/09/18 23:12:16 WARN DAGScheduler: Broadcasting large task binary with size 4.1 MiB\n",
      "21/09/18 23:12:17 WARN DAGScheduler: Broadcasting large task binary with size 4.1 MiB\n",
      "21/09/18 23:12:17 WARN DAGScheduler: Broadcasting large task binary with size 4.1 MiB\n",
      "21/09/18 23:12:18 WARN DAGScheduler: Broadcasting large task binary with size 4.1 MiB\n",
      "21/09/18 23:12:18 WARN DAGScheduler: Broadcasting large task binary with size 4.1 MiB\n",
      "21/09/18 23:12:19 WARN DAGScheduler: Broadcasting large task binary with size 4.1 MiB\n",
      "21/09/18 23:12:19 WARN DAGScheduler: Broadcasting large task binary with size 4.1 MiB\n",
      "21/09/18 23:12:20 WARN DAGScheduler: Broadcasting large task binary with size 4.1 MiB\n",
      "21/09/18 23:12:20 WARN DAGScheduler: Broadcasting large task binary with size 4.1 MiB\n",
      "21/09/18 23:12:21 WARN DAGScheduler: Broadcasting large task binary with size 4.1 MiB\n",
      "21/09/18 23:12:21 WARN DAGScheduler: Broadcasting large task binary with size 4.1 MiB\n",
      "21/09/18 23:12:22 WARN DAGScheduler: Broadcasting large task binary with size 4.1 MiB\n",
      "21/09/18 23:12:22 WARN DAGScheduler: Broadcasting large task binary with size 4.1 MiB\n",
      "21/09/18 23:12:23 WARN DAGScheduler: Broadcasting large task binary with size 4.1 MiB\n",
      "21/09/18 23:12:23 WARN DAGScheduler: Broadcasting large task binary with size 4.1 MiB\n",
      "21/09/18 23:12:24 WARN DAGScheduler: Broadcasting large task binary with size 4.1 MiB\n",
      "21/09/18 23:12:24 WARN DAGScheduler: Broadcasting large task binary with size 4.1 MiB\n",
      "21/09/18 23:12:24 WARN DAGScheduler: Broadcasting large task binary with size 4.1 MiB\n",
      "21/09/18 23:12:25 WARN DAGScheduler: Broadcasting large task binary with size 4.1 MiB\n",
      "21/09/18 23:12:26 WARN DAGScheduler: Broadcasting large task binary with size 4.1 MiB\n",
      "21/09/18 23:12:26 WARN DAGScheduler: Broadcasting large task binary with size 4.1 MiB\n",
      "21/09/18 23:12:26 WARN DAGScheduler: Broadcasting large task binary with size 4.1 MiB\n",
      "21/09/18 23:12:27 WARN DAGScheduler: Broadcasting large task binary with size 4.1 MiB\n",
      "21/09/18 23:12:27 WARN DAGScheduler: Broadcasting large task binary with size 4.1 MiB\n",
      "21/09/18 23:12:28 WARN DAGScheduler: Broadcasting large task binary with size 4.1 MiB\n",
      "21/09/18 23:12:28 WARN DAGScheduler: Broadcasting large task binary with size 4.1 MiB\n",
      "21/09/18 23:12:29 WARN DAGScheduler: Broadcasting large task binary with size 4.1 MiB\n",
      "21/09/18 23:12:29 WARN DAGScheduler: Broadcasting large task binary with size 4.1 MiB\n",
      "21/09/18 23:12:30 WARN DAGScheduler: Broadcasting large task binary with size 4.1 MiB\n",
      "21/09/18 23:12:30 WARN DAGScheduler: Broadcasting large task binary with size 4.1 MiB\n",
      "21/09/18 23:12:31 WARN DAGScheduler: Broadcasting large task binary with size 4.1 MiB\n",
      "21/09/18 23:12:31 WARN DAGScheduler: Broadcasting large task binary with size 4.1 MiB\n",
      "21/09/18 23:12:32 WARN DAGScheduler: Broadcasting large task binary with size 4.1 MiB\n",
      "21/09/18 23:12:33 WARN DAGScheduler: Broadcasting large task binary with size 4.1 MiB\n",
      "21/09/18 23:12:34 WARN DAGScheduler: Broadcasting large task binary with size 4.1 MiB\n",
      "21/09/18 23:12:34 WARN DAGScheduler: Broadcasting large task binary with size 4.1 MiB\n",
      "21/09/18 23:12:35 WARN DAGScheduler: Broadcasting large task binary with size 4.1 MiB\n",
      "21/09/18 23:12:35 WARN DAGScheduler: Broadcasting large task binary with size 4.1 MiB\n",
      "21/09/18 23:12:36 WARN DAGScheduler: Broadcasting large task binary with size 4.1 MiB\n",
      "21/09/18 23:12:36 WARN DAGScheduler: Broadcasting large task binary with size 4.1 MiB\n",
      "21/09/18 23:12:37 WARN DAGScheduler: Broadcasting large task binary with size 4.1 MiB\n",
      "21/09/18 23:12:37 WARN DAGScheduler: Broadcasting large task binary with size 4.1 MiB\n",
      "21/09/18 23:12:38 WARN DAGScheduler: Broadcasting large task binary with size 4.1 MiB\n",
      "21/09/18 23:12:38 WARN DAGScheduler: Broadcasting large task binary with size 4.1 MiB\n",
      "21/09/18 23:12:39 WARN DAGScheduler: Broadcasting large task binary with size 4.1 MiB\n",
      "21/09/18 23:12:39 WARN DAGScheduler: Broadcasting large task binary with size 4.1 MiB\n",
      "21/09/18 23:12:40 WARN DAGScheduler: Broadcasting large task binary with size 4.1 MiB\n",
      "21/09/18 23:12:40 WARN DAGScheduler: Broadcasting large task binary with size 4.1 MiB\n",
      "21/09/18 23:12:40 WARN DAGScheduler: Broadcasting large task binary with size 4.1 MiB\n",
      "21/09/18 23:12:41 WARN DAGScheduler: Broadcasting large task binary with size 4.1 MiB\n",
      "21/09/18 23:12:41 WARN DAGScheduler: Broadcasting large task binary with size 4.1 MiB\n",
      "21/09/18 23:12:41 WARN DAGScheduler: Broadcasting large task binary with size 4.1 MiB\n",
      "21/09/18 23:12:42 WARN DAGScheduler: Broadcasting large task binary with size 4.1 MiB\n",
      "21/09/18 23:12:42 WARN DAGScheduler: Broadcasting large task binary with size 4.1 MiB\n",
      "21/09/18 23:12:42 WARN DAGScheduler: Broadcasting large task binary with size 4.1 MiB\n",
      "21/09/18 23:12:43 WARN DAGScheduler: Broadcasting large task binary with size 4.1 MiB\n",
      "21/09/18 23:12:43 WARN DAGScheduler: Broadcasting large task binary with size 4.1 MiB\n",
      "21/09/18 23:12:43 WARN DAGScheduler: Broadcasting large task binary with size 4.1 MiB\n",
      "21/09/18 23:12:44 WARN DAGScheduler: Broadcasting large task binary with size 4.1 MiB\n",
      "21/09/18 23:12:44 WARN DAGScheduler: Broadcasting large task binary with size 4.1 MiB\n"
     ]
    }
   ],
   "metadata": {}
  },
  {
   "cell_type": "code",
   "execution_count": 12,
   "source": [
    "# Evaluate model\n",
    "trained_df = model.transform(trainingData)\n",
    "val_df = model.transform(validationData)\n",
    "test_df = model.transform(testData)\n",
    "\n",
    "trained_df.show()\n",
    "val_df.show()\n",
    "test_df.show()\n",
    "\n",
    "evaluator = MulticlassClassificationEvaluator(labelCol=\"status\", metricName=\"accuracy\")\n",
    "accuracy_val = evaluator.evaluate(val_df)\n",
    "accuracy_test = evaluator.evaluate(test_df)\n",
    "\n",
    "print(f\"Validation accuracy: {accuracy_val*100:.5f}%\")\n",
    "print(f\"Test accuracy: {accuracy_test*100:.5f}%\")"
   ],
   "outputs": [
    {
     "output_type": "stream",
     "name": "stderr",
     "text": [
      "21/09/18 23:12:47 WARN DAGScheduler: Broadcasting large task binary with size 4.3 MiB\n",
      "Traceback (most recent call last):\n",
      "  File \"/opt/spark/python/lib/pyspark.zip/pyspark/daemon.py\", line 186, in manager\n",
      "  File \"/opt/spark/python/lib/pyspark.zip/pyspark/daemon.py\", line 74, in worker\n",
      "  File \"/opt/spark/python/lib/pyspark.zip/pyspark/worker.py\", line 643, in main\n",
      "    if read_int(infile) == SpecialLengths.END_OF_STREAM:\n",
      "  File \"/opt/spark/python/lib/pyspark.zip/pyspark/serializers.py\", line 564, in read_int\n",
      "    raise EOFError\n",
      "EOFError\n"
     ]
    },
    {
     "output_type": "stream",
     "name": "stdout",
     "text": [
      "+--------------------+------+--------------------+--------------------+--------------------+--------------------+--------------------+--------------------+----------+\n",
      "|             content|status|            content1|            content2|      term_frequency|            features|       rawPrediction|         probability|prediction|\n",
      "+--------------------+------+--------------------+--------------------+--------------------+--------------------+--------------------+--------------------+----------+\n",
      "| Nam Mô A Di Đà Phật|     1|[nam_mô, a_di_đà_...|[nam_mô, a_di_đà_...|(262144,[8054,134...|(262144,[8054,134...|[-2.7511310150133...|[0.06002280646556...|       1.0|\n",
      "|giữ vững top nào ...|     1|[giữ, vững, top, ...|    [vững, top, đóm]|(262144,[18176,12...|(262144,[18176,12...|[-3.3763013974547...|[0.03304437028561...|       1.0|\n",
      "|Greetings from Ge...|     1|[greetings, from,...|[greetings, from,...|(262144,[44462,63...|(262144,[44462,63...|[-2.2920116194304...|[0.09178671971689...|       1.0|\n",
      "|Hai chữ duyên phậ...|     1|[hai, chữ, duyên_...|[hai, chữ, duyên_...|(262144,[70463,15...|(262144,[70463,15...|[-3.1910349239140...|[0.03950449179481...|       1.0|\n",
      "|mong năm nay hết ...|     1|[mong, năm, nay, ...|[mong, dịch_bệnh,...|(262144,[129457,1...|(262144,[129457,1...|[-3.5089372102444...|[0.02905900700037...|       1.0|\n",
      "|        Chúc mừng em|     1|     [chúc_mừng, em]|         [chúc_mừng]|(262144,[47260],[...|(262144,[47260],[...|[-2.4061307871280...|[0.08270638643365...|       1.0|\n",
      "|        hay quá đỉnh|     1|    [hay, quá, đỉnh]|              [đỉnh]|(262144,[188432],...|(262144,[188432],...|[-2.5074908129422...|[0.07533471178781...|       1.0|\n",
      "|có sao đâu quan t...|     1|[có, sao, đâu, qu...|              [lượt]|(262144,[218420],...|(262144,[218420],...|[-1.6023612229579...|[0.16765186006277...|       1.0|\n",
      "|MV dễ thương lắm ...|     1|[mv, dễ_thương, l...|[mv, dễ_thương, l...|(262144,[39795,46...|(262144,[39795,46...|[-5.6604120736301...|[0.00346900624478...|       1.0|\n",
      "|  con tim hay lý trí|     1|[con, tim, hay, l...|       [tim, lý_trí]|(262144,[162534,2...|(262144,[162534,2...|[-2.4227580754286...|[0.08145366076283...|       1.0|\n",
      "|là con gái cứ phả...|     1|[là, con_gái, cứ,...|[con_gái, bận_lòn...|(262144,[83561,14...|(262144,[83561,14...|[-1.4510740444470...|[0.18983632456547...|       1.0|\n",
      "|            Ghé Quaa|     1|         [ghé, quaa]|         [ghé, quaa]|(262144,[169735,2...|(262144,[169735,2...|[-1.5910365891726...|[0.16923810607891...|       1.0|\n",
      "|hình như là nhật bản|     1|[hình_như, là, nh...|[hình_như, nhật_bản]|(262144,[109959,2...|(262144,[109959,2...|[-1.5262043352256...|[0.17854971576656...|       1.0|\n",
      "|nhảy chẳng hợp nh...|     1|[nhảy, chẳng, hợp...|[nhảy, chẳng, hợp...|(262144,[13227,12...|(262144,[13227,12...|[-3.4304451676940...|[0.03135740784957...|       1.0|\n",
      "|Quá hay Lee làm t...|     1|[quá, hay, lee, l...|[lee, nhân_gian, đi]|(262144,[57665,73...|(262144,[57665,73...|[-5.8961598167039...|[0.00274244333611...|       1.0|\n",
      "|      giống mình kkk|     1|  [giống, mình, kkk]|               [kkk]|(262144,[115611],...|(262144,[115611],...|[-1.9360460228704...|[0.12608288566631...|       1.0|\n",
      "|nó vụ vụ CH bỏ nó...|     1|[nó, vụ, vụ, ch, ...| [vụ, vụ, ch, bb, n]|(262144,[52644,64...|(262144,[52644,64...|[1.73376500949908...|[0.84989337295457...|       0.0|\n",
      "|  soái ca thái quynh|     1|[soái, ca, thái, ...|[soái, ca, thái, ...|(262144,[8718,674...|(262144,[8718,674...|[-3.3039203138743...|[0.03543694404932...|       1.0|\n",
      "|em bước đi thật v...|     1|[em, bước_đi, thậ...|          [vội_vàng]|(262144,[15717],[...|(262144,[15717],[...|[-3.5236334816713...|[0.02864721531155...|       1.0|\n",
      "|hay quá mê nhất g...|     1|[hay, quá, mê, nh...|[mê, giọng, vũ_kỳ...|(262144,[20130,54...|(262144,[20130,54...|[-4.5939454080363...|[0.01001163367034...|       1.0|\n",
      "+--------------------+------+--------------------+--------------------+--------------------+--------------------+--------------------+--------------------+----------+\n",
      "only showing top 20 rows\n",
      "\n"
     ]
    },
    {
     "output_type": "stream",
     "name": "stderr",
     "text": [
      "21/09/18 23:12:50 WARN DAGScheduler: Broadcasting large task binary with size 4.3 MiB\n"
     ]
    },
    {
     "output_type": "stream",
     "name": "stdout",
     "text": [
      "+--------------------+------+--------------------+--------------------+--------------------+--------------------+--------------------+--------------------+----------+\n",
      "|             content|status|            content1|            content2|      term_frequency|            features|       rawPrediction|         probability|prediction|\n",
      "+--------------------+------+--------------------+--------------------+--------------------+--------------------+--------------------+--------------------+----------+\n",
      "|Xuất sắc luôn anh...|     1|[xuất_sắc, luôn, ...|  [xuất_sắc, ưiiiii]|(262144,[167020,1...|(262144,[167020,1...|[-1.8960046883948...|[0.13056133341345...|       1.0|\n",
      "|             hay quá|     1|          [hay, quá]|                  []|      (262144,[],[])|      (262144,[],[])|[-1.6359884991166...|[0.16301164752678...|       1.0|\n",
      "|   hay quá đi anh ơi|     1|[hay, quá, đi, an...|                [đi]|(262144,[95276],[...|(262144,[95276],[...|[-2.1959086422209...|[0.10011849651676...|       1.0|\n",
      "|ý Đ nói những sự ...|     1|[ý, đ, nói, những...|[đ, ý_thức, đứa, ...|(262144,[6044,483...|(262144,[6044,483...|[-1.0969516439730...|[0.25031150013149...|       1.0|\n",
      "|                 wow|     1|               [wow]|               [wow]|(262144,[4631],[1...|(262144,[4631],[6...|[-1.3779154471557...|[0.20134399674111...|       1.0|\n",
      "|       Còn nhar kaka|     1|   [còn, nhar, kaka]|        [nhar, kaka]|(262144,[154990,1...|(262144,[154990,1...|[-1.4362393601144...|[0.19212838081134...|       1.0|\n",
      "|             hay quá|     1|          [hay, quá]|                  []|      (262144,[],[])|      (262144,[],[])|[-1.6359884991166...|[0.16301164752678...|       1.0|\n",
      "|     bài hay quá nhỉ|     1|[bài, hay, quá, nhỉ]|                  []|      (262144,[],[])|      (262144,[],[])|[-1.6359884991166...|[0.16301164752678...|       1.0|\n",
      "|                 hay|     1|               [hay]|                  []|      (262144,[],[])|      (262144,[],[])|[-1.6359884991166...|[0.16301164752678...|       1.0|\n",
      "|hay quá giọng ấm ghê|     1|[hay, quá, giọng,...|    [giọng, ấm, ghê]|(262144,[87310,15...|(262144,[87310,15...|[-4.0942092884883...|[0.01639562401371...|       1.0|\n",
      "| Hay nhưng ko có lời|     1|[hay, nhưng, ko, ...|                [ko]|(262144,[204259],...|(262144,[204259],...|[-2.0274313748511...|[0.11635275458930...|       1.0|\n",
      "|         Là ai vậy ạ|     1|    [là, ai, vậy, ạ]|                  []|      (262144,[],[])|      (262144,[],[])|[-1.6359884991166...|[0.16301164752678...|       1.0|\n",
      "| nhứt kiểm bà vuoong|     1|[nhứt, kiểm, bà, ...|[nhứt, kiểm, vuoong]|(262144,[140083,1...|(262144,[140083,1...|[-2.8543815828690...|[0.05445526905645...|       1.0|\n",
      "|chất chơi người d...|     1|[chất, chơi, ngườ...|         [chất, dơi]|(262144,[104629,1...|(262144,[104629,1...|[-2.5239723485686...|[0.07419462346168...|       1.0|\n",
      "|Nhạc bài này rất ...|     1|[nhạc, bài, này, ...|[nhạc, mê, phim, ...|(262144,[6913,201...|(262144,[6913,201...|[-6.5829125753748...|[0.00138190066801...|       1.0|\n",
      "|                á đù|     1|             [á, đù]|                [đù]|(262144,[109748],...|(262144,[109748],...|[-0.3923445207702...|[0.40315303269248...|       1.0|\n",
      "|cố gắng vượt qua ...|     1|[cố_gắng, vượt, q...|[cố_gắng, đợt, dịch]|(262144,[14989,12...|(262144,[14989,12...|[-4.2707254372979...|[0.01377912687025...|       1.0|\n",
      "|anh ơi em tải đc ...|     1|[anh, ơi, em, tải...|           [tải, đc]|(262144,[141068,2...|(262144,[141068,2...|[-2.1658928512426...|[0.10285540770236...|       1.0|\n",
      "|          Hai va bai|     1|      [hai, va, bai]|      [hai, va, bai]|(262144,[36101,15...|(262144,[36101,15...|[-2.2770667271196...|[0.09304017825023...|       1.0|\n",
      "|            Việt Nam|     1|          [việt_nam]|          [việt_nam]|(262144,[192112],...|(262144,[192112],...|[-1.4097416625812...|[0.19627480615603...|       1.0|\n",
      "+--------------------+------+--------------------+--------------------+--------------------+--------------------+--------------------+--------------------+----------+\n",
      "only showing top 20 rows\n",
      "\n"
     ]
    },
    {
     "output_type": "stream",
     "name": "stderr",
     "text": [
      "21/09/18 23:12:54 WARN DAGScheduler: Broadcasting large task binary with size 4.3 MiB\n"
     ]
    },
    {
     "output_type": "stream",
     "name": "stdout",
     "text": [
      "+--------------------+------+--------------------+--------------------+--------------------+--------------------+--------------------+--------------------+----------+\n",
      "|             content|status|            content1|            content2|      term_frequency|            features|       rawPrediction|         probability|prediction|\n",
      "+--------------------+------+--------------------+--------------------+--------------------+--------------------+--------------------+--------------------+----------+\n",
      "| Nam Mô A Di Đà Phật|     1|[nam_mô, a_di_đà_...|[nam_mô, a_di_đà_...|(262144,[8054,134...|(262144,[8054,134...|[-2.7511310150133...|[0.06002280646556...|       1.0|\n",
      "|       Cmt gì thế bà|     1|  [cmt, gì, thế, bà]|               [cmt]|(262144,[244099],...|(262144,[244099],...|[-1.6726302695902...|[0.15807381061658...|       1.0|\n",
      "|      hay lắm ok đấy|     1| [hay, lắm, ok, đấy]|      [lắm, ok, đấy]|(262144,[39795,19...|(262144,[39795,19...|[-3.2131328276928...|[0.03867449128077...|       1.0|\n",
      "|biết gì về người ...|     1|[biết, gì, về, ng...|[v, thằng, não, hẹp]|(262144,[3167,690...|(262144,[3167,690...|[0.01732133541145...|[0.50433022558742...|       0.0|\n",
      "|     con hat hay lam|     1|[con, hat, hay, lam]|          [hat, lam]|(262144,[717,2114...|(262144,[717,2114...|[-2.6090065413820...|[0.06856101920871...|       1.0|\n",
      "|    tuyệt vời sếp ơi|     1|[tuyệt_vời, sếp, ơi]|    [tuyệt_vời, sếp]|(262144,[75304,13...|(262144,[75304,13...|[-2.7277068403517...|[0.06135810064419...|       1.0|\n",
      "|                 hay|     1|               [hay]|                  []|      (262144,[],[])|      (262144,[],[])|[-1.6359884991166...|[0.16301164752678...|       1.0|\n",
      "| hay quá nghiện luôn|     1|[hay, quá, nghiện...|            [nghiện]|(262144,[169438],...|(262144,[169438],...|[-3.1252535923055...|[0.04207750518634...|       1.0|\n",
      "|không hayyyyyyyyy...|     1|[không, hayyyyyyy...|[hayyyyyyyyyyyyyy...|(262144,[61114],[...|(262144,[61114],[...|[1.95251848556846...|[0.87572099745960...|       0.0|\n",
      "|QUANG Hà thần tượ...|     1|[quang, hà_thần_t...|[quang, hà_thần_t...|(262144,[20130,95...|(262144,[20130,95...|[-3.6202239750295...|[0.02607838595668...|       1.0|\n",
      "|    so chill bigbang|     1|[so, chill, bigbang]|    [chill, bigbang]|(262144,[9912,216...|(262144,[9912,216...|[-3.3801884491545...|[0.03292039468169...|       1.0|\n",
      "|bài này hay ma sa...|     1|[bài, này, hay, m...|[ma_sao, dươc, le...|(262144,[18176,50...|(262144,[18176,50...|[-2.3617582936402...|[0.08613568731699...|       1.0|\n",
      "|lên top trending nào|     1|[lên, top, trendi...|     [top, trending]|(262144,[18176,36...|(262144,[18176,36...|[-2.8092240561573...|[0.05682775582898...|       1.0|\n",
      "|  lâu r mới nghe lại|     1|[lâu, r, mới, ngh...|                 [r]|(262144,[212482],...|(262144,[212482],...|[-1.7153010482834...|[0.15247740890877...|       1.0|\n",
      "|theo dõi somi từ ...|     1|[theo_dõi, somi, ...|[theo_dõi, somi, ...|(262144,[43869,10...|(262144,[43869,10...|[3.80528689103322...|[0.97823159608450...|       0.0|\n",
      "|hay vãi ra thích ...|     1|[hay, vãi, ra, th...|    [vãi, đoạn, rap]|(262144,[76042,11...|(262144,[76042,11...|[-2.6037984388783...|[0.06889435900218...|       1.0|\n",
      "|             hay ghê|     1|          [hay, ghê]|               [ghê]|(262144,[154715],...|(262144,[154715],...|[-2.3253166033162...|[0.08904784206349...|       1.0|\n",
      "|Hồi moi nge ghiền...|     1|[hồi, moi, nge, g...|[hồi, moi, nge, g...|(262144,[8195,389...|(262144,[8195,389...|[-5.7368193885671...|[0.00321464223037...|       1.0|\n",
      "|Vậy là bạn không ...|     1|[vậy, là, bạn, kh...|[đời, ami, chúc_m...|(262144,[47260,77...|(262144,[47260,77...|[-3.9976060651100...|[0.01802854215805...|       1.0|\n",
      "|Fan St thì ra mà ...|     1|[fan, st, thì, ra...|   [fan, st, st_hát]|(262144,[110510,1...|(262144,[110510,1...|[-1.6197871154017...|[0.16523423167094...|       1.0|\n",
      "+--------------------+------+--------------------+--------------------+--------------------+--------------------+--------------------+--------------------+----------+\n",
      "only showing top 20 rows\n",
      "\n"
     ]
    },
    {
     "output_type": "stream",
     "name": "stderr",
     "text": [
      "21/09/18 23:12:56 WARN DAGScheduler: Broadcasting large task binary with size 4.3 MiB\n",
      "21/09/18 23:13:13 WARN DAGScheduler: Broadcasting large task binary with size 4.3 MiB\n"
     ]
    },
    {
     "output_type": "stream",
     "name": "stdout",
     "text": [
      "Validation accuracy: 87.17425%\n",
      "Test accuracy: 87.00869%\n"
     ]
    },
    {
     "output_type": "stream",
     "name": "stderr",
     "text": []
    }
   ],
   "metadata": {}
  },
  {
   "cell_type": "code",
   "execution_count": 13,
   "source": [
    "# Save model\n",
    "model.write().overwrite().save('./model_lr/')"
   ],
   "outputs": [
    {
     "output_type": "stream",
     "name": "stderr",
     "text": [
      "21/09/18 23:13:28 WARN TaskSetManager: Stage 141 contains a task of very large size (4184 KiB). The maximum recommended task size is 1000 KiB.\n"
     ]
    }
   ],
   "metadata": {}
  }
 ],
 "metadata": {
  "kernelspec": {
   "name": "python3",
   "display_name": "Python 3.8.10 64-bit"
  },
  "language_info": {
   "codemirror_mode": {
    "name": "ipython",
    "version": 3
   },
   "file_extension": ".py",
   "mimetype": "text/x-python",
   "name": "python",
   "nbconvert_exporter": "python",
   "pygments_lexer": "ipython3",
   "version": "3.8.10"
  },
  "interpreter": {
   "hash": "916dbcbb3f70747c44a77c7bcd40155683ae19c65e1c03b4aa3499c5328201f1"
  }
 },
 "nbformat": 4,
 "nbformat_minor": 5
}