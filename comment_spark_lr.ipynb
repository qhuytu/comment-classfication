{
 "cells": [
  {
   "cell_type": "code",
   "execution_count": 6,
   "source": [
    "import findspark\n",
    "\n",
    "findspark.init()\n",
    "\n",
    "from pyspark.ml.evaluation import MulticlassClassificationEvaluator\n",
    "from pyspark.sql import SparkSession\n",
    "from pyspark.ml import Pipeline\n",
    "from pyspark.ml.classification import LogisticRegression\n",
    "from pyspark.ml.feature import IDF, HashingTF, StopWordsRemover\n",
    "\n",
    "from utils import normalizeContentDf, tokenizeDf"
   ],
   "outputs": [],
   "metadata": {}
  },
  {
   "cell_type": "code",
   "execution_count": 7,
   "source": [
    "# Create Spark Session\n",
    "spark = SparkSession.builder.appName('comment_nlp').config(\"spark.driver.memory\", \"6g\").getOrCreate()"
   ],
   "outputs": [],
   "metadata": {}
  },
  {
   "cell_type": "code",
   "execution_count": 8,
   "source": [
    "# Read raw data\n",
    "rawData = spark.read.csv('./input/train.csv', inferSchema=True, header=True)\n",
    "rawValidData = spark.read.csv('./input/validation.csv', inferSchema=True, header=True)\n",
    "rawTestData = spark.read.csv('./input/test.csv', inferSchema=True, header=True)\n",
    "\n",
    "# Split raw data\n",
    "rawData.repartition(20).write.partitionBy(\"status\").csv('./splitted/train', mode=\"overwrite\")\n",
    "rawValidData.repartition(20).write.partitionBy(\"status\").csv('./splitted/valid', mode=\"overwrite\")\n",
    "rawTestData.repartition(20).write.partitionBy(\"status\").csv('./splitted/test', mode=\"overwrite\")\n",
    "\n",
    "# Read splitted data\n",
    "schemaDdl = \"content STRING, status INTEGER\"\n",
    "sparkReader = spark.read.schema(schemaDdl)\n",
    "trainingData = sparkReader.csv('./splitted/train')\n",
    "validationData = sparkReader.csv('./splitted/valid')\n",
    "testData = sparkReader.csv('./splitted/test')"
   ],
   "outputs": [
    {
     "output_type": "stream",
     "name": "stderr",
     "text": []
    }
   ],
   "metadata": {}
  },
  {
   "cell_type": "code",
   "execution_count": 9,
   "source": [
    "# Normalize content\n",
    "trainingData = normalizeContentDf(trainingData).filter(\"content != ''\").select(\"content\", \"status\").coalesce(3)\n",
    "validationData = normalizeContentDf(validationData).filter(\"content != ''\").select(\"content\", \"status\").coalesce(3)\n",
    "testData = normalizeContentDf(testData).filter(\"content != ''\").select(\"content\", \"status\").coalesce(3)\n",
    "\n",
    "# Tokenize Vietnamese before process\n",
    "trainingData = tokenizeDf(trainingData)\n",
    "validationData = tokenizeDf(validationData)\n",
    "testData = tokenizeDf(testData)"
   ],
   "outputs": [],
   "metadata": {}
  },
  {
   "cell_type": "code",
   "execution_count": 10,
   "source": [
    "# Read Vietnamese Stopwords\n",
    "stopwords_file = open(\"./vietnamese-stopwords.txt\", \"r\")\n",
    "stopwords_list = stopwords_file.read().split('\\n')\n",
    "\n",
    "# Define pipeline\n",
    "stopwords_remover = StopWordsRemover(\n",
    "    inputCol=\"content1\",\n",
    "    outputCol=\"content2\",\n",
    "    stopWords=stopwords_list,\n",
    ")\n",
    "hashing_tf = HashingTF(\n",
    "    inputCol=\"content2\",\n",
    "    outputCol=\"term_frequency\",\n",
    ")\n",
    "idf = IDF(\n",
    "    inputCol=\"term_frequency\",\n",
    "    outputCol=\"features\",\n",
    "    minDocFreq=5\n",
    ")\n",
    "lr = LogisticRegression(labelCol=\"status\")\n",
    "sematic_analysis_pipeline = Pipeline(\n",
    "    stages=[stopwords_remover, hashing_tf, idf, lr]\n",
    ")"
   ],
   "outputs": [],
   "metadata": {}
  },
  {
   "cell_type": "code",
   "execution_count": 11,
   "source": [
    "# Create model\n",
    "model = sematic_analysis_pipeline.fit(trainingData)"
   ],
   "outputs": [
    {
     "output_type": "stream",
     "name": "stderr",
     "text": [
      "21/09/18 23:00:26 WARN DAGScheduler: Broadcasting large task binary with size 4.1 MiB\n",
      "21/09/18 23:05:52 WARN DAGScheduler: Broadcasting large task binary with size 4.1 MiB\n",
      "21/09/18 23:07:24 WARN BLAS: Failed to load implementation from: com.github.fommil.netlib.NativeSystemBLAS\n",
      "21/09/18 23:07:24 WARN BLAS: Failed to load implementation from: com.github.fommil.netlib.NativeRefBLAS\n",
      "21/09/18 23:11:49 WARN DAGScheduler: Broadcasting large task binary with size 4.1 MiB\n",
      "21/09/18 23:11:50 WARN DAGScheduler: Broadcasting large task binary with size 4.1 MiB\n",
      "21/09/18 23:11:51 WARN DAGScheduler: Broadcasting large task binary with size 4.1 MiB\n",
      "21/09/18 23:11:52 WARN DAGScheduler: Broadcasting large task binary with size 4.1 MiB\n",
      "21/09/18 23:11:52 WARN DAGScheduler: Broadcasting large task binary with size 4.1 MiB\n",
      "21/09/18 23:11:53 WARN DAGScheduler: Broadcasting large task binary with size 4.1 MiB\n",
      "21/09/18 23:11:54 WARN DAGScheduler: Broadcasting large task binary with size 4.1 MiB\n",
      "21/09/18 23:11:55 WARN DAGScheduler: Broadcasting large task binary with size 4.1 MiB\n",
      "21/09/18 23:11:55 WARN DAGScheduler: Broadcasting large task binary with size 4.1 MiB\n",
      "21/09/18 23:11:56 WARN DAGScheduler: Broadcasting large task binary with size 4.1 MiB\n",
      "21/09/18 23:11:57 WARN DAGScheduler: Broadcasting large task binary with size 4.1 MiB\n",
      "21/09/18 23:11:58 WARN DAGScheduler: Broadcasting large task binary with size 4.1 MiB\n",
      "21/09/18 23:11:58 WARN DAGScheduler: Broadcasting large task binary with size 4.1 MiB\n",
      "21/09/18 23:11:59 WARN DAGScheduler: Broadcasting large task binary with size 4.1 MiB\n",
      "21/09/18 23:12:00 WARN DAGScheduler: Broadcasting large task binary with size 4.1 MiB\n",
      "21/09/18 23:12:00 WARN DAGScheduler: Broadcasting large task binary with size 4.1 MiB\n",
      "21/09/18 23:12:01 WARN DAGScheduler: Broadcasting large task binary with size 4.1 MiB\n",
      "21/09/18 23:12:02 WARN DAGScheduler: Broadcasting large task binary with size 4.1 MiB\n",
      "21/09/18 23:12:02 WARN DAGScheduler: Broadcasting large task binary with size 4.1 MiB\n",
      "21/09/18 23:12:03 WARN DAGScheduler: Broadcasting large task binary with size 4.1 MiB\n",
      "21/09/18 23:12:04 WARN DAGScheduler: Broadcasting large task binary with size 4.1 MiB\n",
      "21/09/18 23:12:04 WARN DAGScheduler: Broadcasting large task binary with size 4.1 MiB\n",
      "21/09/18 23:12:05 WARN DAGScheduler: Broadcasting large task binary with size 4.1 MiB\n",
      "21/09/18 23:12:05 WARN DAGScheduler: Broadcasting large task binary with size 4.1 MiB\n",
      "21/09/18 23:12:06 WARN DAGScheduler: Broadcasting large task binary with size 4.1 MiB\n",
      "21/09/18 23:12:07 WARN DAGScheduler: Broadcasting large task binary with size 4.1 MiB\n",
      "21/09/18 23:12:07 WARN DAGScheduler: Broadcasting large task binary with size 4.1 MiB\n",
      "21/09/18 23:12:08 WARN DAGScheduler: Broadcasting large task binary with size 4.1 MiB\n",
      "21/09/18 23:12:08 WARN DAGScheduler: Broadcasting large task binary with size 4.1 MiB\n",
      "21/09/18 23:12:09 WARN DAGScheduler: Broadcasting large task binary with size 4.1 MiB\n",
      "21/09/18 23:12:10 WARN DAGScheduler: Broadcasting large task binary with size 4.1 MiB\n",
      "21/09/18 23:12:10 WARN DAGScheduler: Broadcasting large task binary with size 4.1 MiB\n",
      "21/09/18 23:12:11 WARN DAGScheduler: Broadcasting large task binary with size 4.1 MiB\n",
      "21/09/18 23:12:11 WARN DAGScheduler: Broadcasting large task binary with size 4.1 MiB\n",
      "21/09/18 23:12:12 WARN DAGScheduler: Broadcasting large task binary with size 4.1 MiB\n",
      "21/09/18 23:12:12 WARN DAGScheduler: Broadcasting large task binary with size 4.1 MiB\n",
      "21/09/18 23:12:13 WARN DAGScheduler: Broadcasting large task binary with size 4.1 MiB\n",
      "21/09/18 23:12:13 WARN DAGScheduler: Broadcasting large task binary with size 4.1 MiB\n",
      "21/09/18 23:12:14 WARN DAGScheduler: Broadcasting large task binary with size 4.1 MiB\n",
      "21/09/18 23:12:14 WARN DAGScheduler: Broadcasting large task binary with size 4.1 MiB\n",
      "21/09/18 23:12:15 WARN DAGScheduler: Broadcasting large task binary with size 4.1 MiB\n",
      "21/09/18 23:12:15 WARN DAGScheduler: Broadcasting large task binary with size 4.1 MiB\n",
      "21/09/18 23:12:16 WARN DAGScheduler: Broadcasting large task binary with size 4.1 MiB\n",
      "21/09/18 23:12:16 WARN DAGScheduler: Broadcasting large task binary with size 4.1 MiB\n",
      "21/09/18 23:12:17 WARN DAGScheduler: Broadcasting large task binary with size 4.1 MiB\n",
      "21/09/18 23:12:17 WARN DAGScheduler: Broadcasting large task binary with size 4.1 MiB\n",
      "21/09/18 23:12:18 WARN DAGScheduler: Broadcasting large task binary with size 4.1 MiB\n",
      "21/09/18 23:12:18 WARN DAGScheduler: Broadcasting large task binary with size 4.1 MiB\n",
      "21/09/18 23:12:19 WARN DAGScheduler: Broadcasting large task binary with size 4.1 MiB\n",
      "21/09/18 23:12:19 WARN DAGScheduler: Broadcasting large task binary with size 4.1 MiB\n",
      "21/09/18 23:12:20 WARN DAGScheduler: Broadcasting large task binary with size 4.1 MiB\n",
      "21/09/18 23:12:20 WARN DAGScheduler: Broadcasting large task binary with size 4.1 MiB\n",
      "21/09/18 23:12:21 WARN DAGScheduler: Broadcasting large task binary with size 4.1 MiB\n",
      "21/09/18 23:12:21 WARN DAGScheduler: Broadcasting large task binary with size 4.1 MiB\n",
      "21/09/18 23:12:22 WARN DAGScheduler: Broadcasting large task binary with size 4.1 MiB\n",
      "21/09/18 23:12:22 WARN DAGScheduler: Broadcasting large task binary with size 4.1 MiB\n",
      "21/09/18 23:12:23 WARN DAGScheduler: Broadcasting large task binary with size 4.1 MiB\n",
      "21/09/18 23:12:23 WARN DAGScheduler: Broadcasting large task binary with size 4.1 MiB\n",
      "21/09/18 23:12:24 WARN DAGScheduler: Broadcasting large task binary with size 4.1 MiB\n",
      "21/09/18 23:12:24 WARN DAGScheduler: Broadcasting large task binary with size 4.1 MiB\n",
      "21/09/18 23:12:24 WARN DAGScheduler: Broadcasting large task binary with size 4.1 MiB\n",
      "21/09/18 23:12:25 WARN DAGScheduler: Broadcasting large task binary with size 4.1 MiB\n",
      "21/09/18 23:12:26 WARN DAGScheduler: Broadcasting large task binary with size 4.1 MiB\n",
      "21/09/18 23:12:26 WARN DAGScheduler: Broadcasting large task binary with size 4.1 MiB\n",
      "21/09/18 23:12:26 WARN DAGScheduler: Broadcasting large task binary with size 4.1 MiB\n",
      "21/09/18 23:12:27 WARN DAGScheduler: Broadcasting large task binary with size 4.1 MiB\n",
      "21/09/18 23:12:27 WARN DAGScheduler: Broadcasting large task binary with size 4.1 MiB\n",
      "21/09/18 23:12:28 WARN DAGScheduler: Broadcasting large task binary with size 4.1 MiB\n",
      "21/09/18 23:12:28 WARN DAGScheduler: Broadcasting large task binary with size 4.1 MiB\n",
      "21/09/18 23:12:29 WARN DAGScheduler: Broadcasting large task binary with size 4.1 MiB\n",
      "21/09/18 23:12:29 WARN DAGScheduler: Broadcasting large task binary with size 4.1 MiB\n",
      "21/09/18 23:12:30 WARN DAGScheduler: Broadcasting large task binary with size 4.1 MiB\n",
      "21/09/18 23:12:30 WARN DAGScheduler: Broadcasting large task binary with size 4.1 MiB\n",
      "21/09/18 23:12:31 WARN DAGScheduler: Broadcasting large task binary with size 4.1 MiB\n",
      "21/09/18 23:12:31 WARN DAGScheduler: Broadcasting large task binary with size 4.1 MiB\n",
      "21/09/18 23:12:32 WARN DAGScheduler: Broadcasting large task binary with size 4.1 MiB\n",
      "21/09/18 23:12:33 WARN DAGScheduler: Broadcasting large task binary with size 4.1 MiB\n",
      "21/09/18 23:12:34 WARN DAGScheduler: Broadcasting large task binary with size 4.1 MiB\n",
      "21/09/18 23:12:34 WARN DAGScheduler: Broadcasting large task binary with size 4.1 MiB\n",
      "21/09/18 23:12:35 WARN DAGScheduler: Broadcasting large task binary with size 4.1 MiB\n",
      "21/09/18 23:12:35 WARN DAGScheduler: Broadcasting large task binary with size 4.1 MiB\n",
      "21/09/18 23:12:36 WARN DAGScheduler: Broadcasting large task binary with size 4.1 MiB\n",
      "21/09/18 23:12:36 WARN DAGScheduler: Broadcasting large task binary with size 4.1 MiB\n",
      "21/09/18 23:12:37 WARN DAGScheduler: Broadcasting large task binary with size 4.1 MiB\n",
      "21/09/18 23:12:37 WARN DAGScheduler: Broadcasting large task binary with size 4.1 MiB\n",
      "21/09/18 23:12:38 WARN DAGScheduler: Broadcasting large task binary with size 4.1 MiB\n",
      "21/09/18 23:12:38 WARN DAGScheduler: Broadcasting large task binary with size 4.1 MiB\n",
      "21/09/18 23:12:39 WARN DAGScheduler: Broadcasting large task binary with size 4.1 MiB\n",
      "21/09/18 23:12:39 WARN DAGScheduler: Broadcasting large task binary with size 4.1 MiB\n",
      "21/09/18 23:12:40 WARN DAGScheduler: Broadcasting large task binary with size 4.1 MiB\n",
      "21/09/18 23:12:40 WARN DAGScheduler: Broadcasting large task binary with size 4.1 MiB\n",
      "21/09/18 23:12:40 WARN DAGScheduler: Broadcasting large task binary with size 4.1 MiB\n",
      "21/09/18 23:12:41 WARN DAGScheduler: Broadcasting large task binary with size 4.1 MiB\n",
      "21/09/18 23:12:41 WARN DAGScheduler: Broadcasting large task binary with size 4.1 MiB\n",
      "21/09/18 23:12:41 WARN DAGScheduler: Broadcasting large task binary with size 4.1 MiB\n",
      "21/09/18 23:12:42 WARN DAGScheduler: Broadcasting large task binary with size 4.1 MiB\n",
      "21/09/18 23:12:42 WARN DAGScheduler: Broadcasting large task binary with size 4.1 MiB\n",
      "21/09/18 23:12:42 WARN DAGScheduler: Broadcasting large task binary with size 4.1 MiB\n",
      "21/09/18 23:12:43 WARN DAGScheduler: Broadcasting large task binary with size 4.1 MiB\n",
      "21/09/18 23:12:43 WARN DAGScheduler: Broadcasting large task binary with size 4.1 MiB\n",
      "21/09/18 23:12:43 WARN DAGScheduler: Broadcasting large task binary with size 4.1 MiB\n",
      "21/09/18 23:12:44 WARN DAGScheduler: Broadcasting large task binary with size 4.1 MiB\n",
      "21/09/18 23:12:44 WARN DAGScheduler: Broadcasting large task binary with size 4.1 MiB\n"
     ]
    }
   ],
   "metadata": {}
  },
  {
   "cell_type": "code",
   "execution_count": null,
   "source": [
    "# Evaluate model\n",
    "trained_df = model.transform(trainingData)\n",
    "val_df = model.transform(validationData)\n",
    "test_df = model.transform(testData)\n",
    "\n",
    "trained_df.show()\n",
    "val_df.show()\n",
    "test_df.show()\n",
    "\n",
    "evaluator = MulticlassClassificationEvaluator(labelCol=\"status\", metricName=\"accuracy\")\n",
    "accuracy_val = evaluator.evaluate(val_df)\n",
    "accuracy_test = evaluator.evaluate(test_df)\n",
    "\n",
    "print(f\"Validation accuracy: {accuracy_val*100:.5f}%\")\n",
    "print(f\"Test accuracy: {accuracy_test*100:.5f}%\")"
   ],
   "outputs": [],
   "metadata": {}
  },
  {
   "cell_type": "code",
   "execution_count": 13,
   "source": [
    "# Save model\n",
    "model.write().overwrite().save('./model_lr/')"
   ],
   "outputs": [
    {
     "output_type": "stream",
     "name": "stderr",
     "text": [
      "21/09/18 23:13:28 WARN TaskSetManager: Stage 141 contains a task of very large size (4184 KiB). The maximum recommended task size is 1000 KiB.\n"
     ]
    }
   ],
   "metadata": {}
  }
 ],
 "metadata": {
  "kernelspec": {
   "name": "python3",
   "display_name": "Python 3.8.10 64-bit"
  },
  "language_info": {
   "codemirror_mode": {
    "name": "ipython",
    "version": 3
   },
   "file_extension": ".py",
   "mimetype": "text/x-python",
   "name": "python",
   "nbconvert_exporter": "python",
   "pygments_lexer": "ipython3",
   "version": "3.8.10"
  },
  "interpreter": {
   "hash": "916dbcbb3f70747c44a77c7bcd40155683ae19c65e1c03b4aa3499c5328201f1"
  }
 },
 "nbformat": 4,
 "nbformat_minor": 5
}