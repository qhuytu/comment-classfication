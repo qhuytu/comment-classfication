{
 "cells": [
  {
   "cell_type": "code",
   "execution_count": 1,
   "source": [
    "import findspark\n",
    "\n",
    "findspark.init()\n",
    "\n",
    "from pyspark.ml.evaluation import MulticlassClassificationEvaluator\n",
    "from pyspark.sql import SparkSession\n",
    "from pyspark.ml import Pipeline\n",
    "from pyspark.ml.classification import LogisticRegression\n",
    "from pyspark.ml.feature import IDF, HashingTF, StopWordsRemover\n",
    "\n",
    "from utils import normalizeContentDf, tokenizeDf"
   ],
   "outputs": [],
   "metadata": {}
  },
  {
   "cell_type": "code",
   "execution_count": 2,
   "source": [
    "# Create Spark Session\n",
    "spark = SparkSession.builder.appName('comment_nlp').config(\"spark.driver.memory\", \"6g\").getOrCreate()"
   ],
   "outputs": [
    {
     "output_type": "stream",
     "name": "stderr",
     "text": [
      "21/10/05 00:13:07 WARN Utils: Your hostname, zmediatech-huytq11 resolves to a loopback address: 127.0.0.1; using 192.168.1.17 instead (on interface wlp3s0)\n",
      "21/10/05 00:13:07 WARN Utils: Set SPARK_LOCAL_IP if you need to bind to another address\n",
      "21/10/05 00:13:08 WARN NativeCodeLoader: Unable to load native-hadoop library for your platform... using builtin-java classes where applicable\n",
      "Using Spark's default log4j profile: org/apache/spark/log4j-defaults.properties\n",
      "Setting default log level to \"WARN\".\n",
      "To adjust logging level use sc.setLogLevel(newLevel). For SparkR, use setLogLevel(newLevel).\n"
     ]
    }
   ],
   "metadata": {}
  },
  {
   "cell_type": "code",
   "execution_count": 3,
   "source": [
    "# Read raw data\n",
    "rawData = spark.read.csv('./input/train.csv', inferSchema=True, header=True)\n",
    "rawValidData = spark.read.csv('./input/validation.csv', inferSchema=True, header=True)\n",
    "rawTestData = spark.read.csv('./input/test.csv', inferSchema=True, header=True)\n",
    "\n",
    "# Split raw data\n",
    "rawData.repartition(20).write.partitionBy(\"status\").csv('./splitted/train', mode=\"overwrite\")\n",
    "rawValidData.repartition(20).write.partitionBy(\"status\").csv('./splitted/valid', mode=\"overwrite\")\n",
    "rawTestData.repartition(20).write.partitionBy(\"status\").csv('./splitted/test', mode=\"overwrite\")\n",
    "\n",
    "# Read splitted data\n",
    "schemaDdl = \"content STRING, status INTEGER\"\n",
    "sparkReader = spark.read.schema(schemaDdl)\n",
    "trainingData = sparkReader.csv('./splitted/train')\n",
    "validationData = sparkReader.csv('./splitted/valid')\n",
    "testData = sparkReader.csv('./splitted/test')"
   ],
   "outputs": [
    {
     "output_type": "stream",
     "name": "stderr",
     "text": []
    }
   ],
   "metadata": {}
  },
  {
   "cell_type": "code",
   "execution_count": 5,
   "source": [
    "import pandas as pd\n",
    "import seaborn as sns\n",
    "\n",
    "df = pd.concat([rawData.toPandas(), rawValidData.toPandas(), rawTestData.toPandas()], axis=0)\n",
    "\n",
    "sns.displot(df)"
   ],
   "outputs": [
    {
     "output_type": "stream",
     "name": "stderr",
     "text": []
    },
    {
     "output_type": "execute_result",
     "data": {
      "text/plain": [
       "<seaborn.axisgrid.FacetGrid at 0x7fb1243550a0>"
      ]
     },
     "metadata": {},
     "execution_count": 5
    },
    {
     "output_type": "display_data",
     "data": {
      "image/png": "[encoded data removed]",
      "text/plain": [
       "<Figure size 426.75x360 with 1 Axes>"
      ]
     },
     "metadata": {
      "needs_background": "light"
     }
    }
   ],
   "metadata": {}
  },
  {
   "cell_type": "code",
   "execution_count": 4,
   "source": [
    "# Normalize content\n",
    "trainingData = normalizeContentDf(trainingData).filter(\"content != ''\").select(\"content\", \"status\").coalesce(3)\n",
    "validationData = normalizeContentDf(validationData).filter(\"content != ''\").select(\"content\", \"status\").coalesce(3)\n",
    "testData = normalizeContentDf(testData).filter(\"content != ''\").select(\"content\", \"status\").coalesce(3)\n",
    "\n",
    "trainingData.toPandas().select(\"content\", \"status\").to_csv('./input/train_filtered.csv')\n",
    "validationData.toPandas().select(\"content\", \"status\").to_csv('./input/validation_filtered.csv')\n",
    "testData.toPandas().select(\"content\", \"status\").to_csv('./input/test_filtered.csv')"
   ],
   "outputs": [
    {
     "output_type": "stream",
     "name": "stderr",
     "text": []
    }
   ],
   "metadata": {}
  },
  {
   "cell_type": "code",
   "execution_count": 5,
   "source": [
    "# Tokenize Vietnamese before process\n",
    "trainingData = tokenizeDf(trainingData)\n",
    "validationData = tokenizeDf(validationData)\n",
    "testData = tokenizeDf(testData)"
   ],
   "outputs": [],
   "metadata": {}
  },
  {
   "cell_type": "code",
   "execution_count": 6,
   "source": [
    "# Read Vietnamese Stopwords\n",
    "stopwords_file = open(\"./vietnamese-stopwords.txt\", \"r\")\n",
    "stopwords_list = stopwords_file.read().split('\\n')\n",
    "\n",
    "# Define pipeline\n",
    "stopwords_remover = StopWordsRemover(\n",
    "    inputCol=\"content1\",\n",
    "    outputCol=\"content2\",\n",
    "    stopWords=stopwords_list,\n",
    ")\n",
    "hashing_tf = HashingTF(\n",
    "    inputCol=\"content2\",\n",
    "    outputCol=\"term_frequency\",\n",
    ")\n",
    "idf = IDF(\n",
    "    inputCol=\"term_frequency\",\n",
    "    outputCol=\"features\",\n",
    "    minDocFreq=5\n",
    ")\n",
    "lr = LogisticRegression(labelCol=\"status\")\n",
    "sematic_analysis_pipeline = Pipeline(\n",
    "    stages=[stopwords_remover, hashing_tf, idf, lr]\n",
    ")"
   ],
   "outputs": [],
   "metadata": {}
  },
  {
   "cell_type": "code",
   "execution_count": 7,
   "source": [
    "# Create model\n",
    "model = sematic_analysis_pipeline.fit(trainingData)"
   ],
   "outputs": [
    {
     "output_type": "stream",
     "name": "stderr",
     "text": [
      "21/10/03 10:46:28 WARN DAGScheduler: Broadcasting large task binary with size 4.1 MiB\n",
      "21/10/03 10:48:50 WARN DAGScheduler: Broadcasting large task binary with size 4.1 MiB\n",
      "21/10/03 10:49:32 WARN BLAS: Failed to load implementation from: com.github.fommil.netlib.NativeSystemBLAS\n",
      "21/10/03 10:49:32 WARN BLAS: Failed to load implementation from: com.github.fommil.netlib.NativeRefBLAS\n",
      "21/10/03 10:51:21 WARN DAGScheduler: Broadcasting large task binary with size 4.1 MiB\n",
      "21/10/03 10:51:22 WARN DAGScheduler: Broadcasting large task binary with size 4.1 MiB\n",
      "21/10/03 10:51:22 WARN DAGScheduler: Broadcasting large task binary with size 4.1 MiB\n",
      "21/10/03 10:51:23 WARN DAGScheduler: Broadcasting large task binary with size 4.1 MiB\n",
      "21/10/03 10:51:23 WARN DAGScheduler: Broadcasting large task binary with size 4.1 MiB\n",
      "21/10/03 10:51:24 WARN DAGScheduler: Broadcasting large task binary with size 4.1 MiB\n",
      "21/10/03 10:51:24 WARN DAGScheduler: Broadcasting large task binary with size 4.1 MiB\n",
      "21/10/03 10:51:24 WARN DAGScheduler: Broadcasting large task binary with size 4.1 MiB\n",
      "21/10/03 10:51:25 WARN DAGScheduler: Broadcasting large task binary with size 4.1 MiB\n",
      "21/10/03 10:51:25 WARN DAGScheduler: Broadcasting large task binary with size 4.1 MiB\n",
      "21/10/03 10:51:26 WARN DAGScheduler: Broadcasting large task binary with size 4.1 MiB\n",
      "21/10/03 10:51:26 WARN DAGScheduler: Broadcasting large task binary with size 4.1 MiB\n",
      "21/10/03 10:51:26 WARN DAGScheduler: Broadcasting large task binary with size 4.1 MiB\n",
      "21/10/03 10:51:27 WARN DAGScheduler: Broadcasting large task binary with size 4.1 MiB\n",
      "21/10/03 10:51:27 WARN DAGScheduler: Broadcasting large task binary with size 4.1 MiB\n",
      "21/10/03 10:51:28 WARN DAGScheduler: Broadcasting large task binary with size 4.1 MiB\n",
      "21/10/03 10:51:28 WARN DAGScheduler: Broadcasting large task binary with size 4.1 MiB\n",
      "21/10/03 10:51:29 WARN DAGScheduler: Broadcasting large task binary with size 4.1 MiB\n",
      "21/10/03 10:51:29 WARN DAGScheduler: Broadcasting large task binary with size 4.1 MiB\n",
      "21/10/03 10:51:30 WARN DAGScheduler: Broadcasting large task binary with size 4.1 MiB\n",
      "21/10/03 10:51:30 WARN DAGScheduler: Broadcasting large task binary with size 4.1 MiB\n",
      "21/10/03 10:51:31 WARN DAGScheduler: Broadcasting large task binary with size 4.1 MiB\n",
      "21/10/03 10:51:31 WARN DAGScheduler: Broadcasting large task binary with size 4.1 MiB\n",
      "21/10/03 10:51:32 WARN DAGScheduler: Broadcasting large task binary with size 4.1 MiB\n",
      "21/10/03 10:51:32 WARN DAGScheduler: Broadcasting large task binary with size 4.1 MiB\n",
      "21/10/03 10:51:32 WARN DAGScheduler: Broadcasting large task binary with size 4.1 MiB\n",
      "21/10/03 10:51:33 WARN DAGScheduler: Broadcasting large task binary with size 4.1 MiB\n",
      "21/10/03 10:51:33 WARN DAGScheduler: Broadcasting large task binary with size 4.1 MiB\n",
      "21/10/03 10:51:34 WARN DAGScheduler: Broadcasting large task binary with size 4.1 MiB\n",
      "21/10/03 10:51:34 WARN DAGScheduler: Broadcasting large task binary with size 4.1 MiB\n",
      "21/10/03 10:51:35 WARN DAGScheduler: Broadcasting large task binary with size 4.1 MiB\n",
      "21/10/03 10:51:35 WARN DAGScheduler: Broadcasting large task binary with size 4.1 MiB\n",
      "21/10/03 10:51:35 WARN DAGScheduler: Broadcasting large task binary with size 4.1 MiB\n",
      "21/10/03 10:51:36 WARN DAGScheduler: Broadcasting large task binary with size 4.1 MiB\n",
      "21/10/03 10:51:36 WARN DAGScheduler: Broadcasting large task binary with size 4.1 MiB\n",
      "21/10/03 10:51:36 WARN DAGScheduler: Broadcasting large task binary with size 4.1 MiB\n",
      "21/10/03 10:51:37 WARN DAGScheduler: Broadcasting large task binary with size 4.1 MiB\n",
      "21/10/03 10:51:37 WARN DAGScheduler: Broadcasting large task binary with size 4.1 MiB\n",
      "21/10/03 10:51:38 WARN DAGScheduler: Broadcasting large task binary with size 4.1 MiB\n",
      "21/10/03 10:51:38 WARN DAGScheduler: Broadcasting large task binary with size 4.1 MiB\n",
      "21/10/03 10:51:38 WARN DAGScheduler: Broadcasting large task binary with size 4.1 MiB\n",
      "21/10/03 10:51:39 WARN DAGScheduler: Broadcasting large task binary with size 4.1 MiB\n",
      "21/10/03 10:51:39 WARN DAGScheduler: Broadcasting large task binary with size 4.1 MiB\n",
      "21/10/03 10:51:40 WARN DAGScheduler: Broadcasting large task binary with size 4.1 MiB\n",
      "21/10/03 10:51:40 WARN DAGScheduler: Broadcasting large task binary with size 4.1 MiB\n",
      "21/10/03 10:51:41 WARN DAGScheduler: Broadcasting large task binary with size 4.1 MiB\n",
      "21/10/03 10:51:41 WARN DAGScheduler: Broadcasting large task binary with size 4.1 MiB\n",
      "21/10/03 10:51:41 WARN DAGScheduler: Broadcasting large task binary with size 4.1 MiB\n",
      "21/10/03 10:51:42 WARN DAGScheduler: Broadcasting large task binary with size 4.1 MiB\n",
      "21/10/03 10:51:42 WARN DAGScheduler: Broadcasting large task binary with size 4.1 MiB\n",
      "21/10/03 10:51:43 WARN DAGScheduler: Broadcasting large task binary with size 4.1 MiB\n",
      "21/10/03 10:51:43 WARN DAGScheduler: Broadcasting large task binary with size 4.1 MiB\n",
      "21/10/03 10:51:43 WARN DAGScheduler: Broadcasting large task binary with size 4.1 MiB\n",
      "21/10/03 10:51:44 WARN DAGScheduler: Broadcasting large task binary with size 4.1 MiB\n",
      "21/10/03 10:51:44 WARN DAGScheduler: Broadcasting large task binary with size 4.1 MiB\n",
      "21/10/03 10:51:44 WARN DAGScheduler: Broadcasting large task binary with size 4.1 MiB\n",
      "21/10/03 10:51:45 WARN DAGScheduler: Broadcasting large task binary with size 4.1 MiB\n",
      "21/10/03 10:51:45 WARN DAGScheduler: Broadcasting large task binary with size 4.1 MiB\n",
      "21/10/03 10:51:46 WARN DAGScheduler: Broadcasting large task binary with size 4.1 MiB\n",
      "21/10/03 10:51:46 WARN DAGScheduler: Broadcasting large task binary with size 4.1 MiB\n",
      "21/10/03 10:51:46 WARN DAGScheduler: Broadcasting large task binary with size 4.1 MiB\n",
      "21/10/03 10:51:47 WARN DAGScheduler: Broadcasting large task binary with size 4.1 MiB\n",
      "21/10/03 10:51:47 WARN DAGScheduler: Broadcasting large task binary with size 4.1 MiB\n",
      "21/10/03 10:51:48 WARN DAGScheduler: Broadcasting large task binary with size 4.1 MiB\n",
      "21/10/03 10:51:48 WARN DAGScheduler: Broadcasting large task binary with size 4.1 MiB\n",
      "21/10/03 10:51:48 WARN DAGScheduler: Broadcasting large task binary with size 4.1 MiB\n",
      "21/10/03 10:51:49 WARN DAGScheduler: Broadcasting large task binary with size 4.1 MiB\n",
      "21/10/03 10:51:49 WARN DAGScheduler: Broadcasting large task binary with size 4.1 MiB\n",
      "21/10/03 10:51:50 WARN DAGScheduler: Broadcasting large task binary with size 4.1 MiB\n",
      "21/10/03 10:51:50 WARN DAGScheduler: Broadcasting large task binary with size 4.1 MiB\n",
      "21/10/03 10:51:51 WARN DAGScheduler: Broadcasting large task binary with size 4.1 MiB\n",
      "21/10/03 10:51:51 WARN DAGScheduler: Broadcasting large task binary with size 4.1 MiB\n",
      "21/10/03 10:51:51 WARN DAGScheduler: Broadcasting large task binary with size 4.1 MiB\n",
      "21/10/03 10:51:52 WARN DAGScheduler: Broadcasting large task binary with size 4.1 MiB\n",
      "21/10/03 10:51:52 WARN DAGScheduler: Broadcasting large task binary with size 4.1 MiB\n",
      "21/10/03 10:51:52 WARN DAGScheduler: Broadcasting large task binary with size 4.1 MiB\n",
      "21/10/03 10:51:53 WARN DAGScheduler: Broadcasting large task binary with size 4.1 MiB\n",
      "21/10/03 10:51:53 WARN DAGScheduler: Broadcasting large task binary with size 4.1 MiB\n",
      "21/10/03 10:51:54 WARN DAGScheduler: Broadcasting large task binary with size 4.1 MiB\n",
      "21/10/03 10:51:54 WARN DAGScheduler: Broadcasting large task binary with size 4.1 MiB\n",
      "21/10/03 10:51:54 WARN DAGScheduler: Broadcasting large task binary with size 4.1 MiB\n",
      "21/10/03 10:51:55 WARN DAGScheduler: Broadcasting large task binary with size 4.1 MiB\n",
      "21/10/03 10:51:55 WARN DAGScheduler: Broadcasting large task binary with size 4.1 MiB\n",
      "21/10/03 10:51:56 WARN DAGScheduler: Broadcasting large task binary with size 4.1 MiB\n",
      "21/10/03 10:51:56 WARN DAGScheduler: Broadcasting large task binary with size 4.1 MiB\n",
      "21/10/03 10:51:56 WARN DAGScheduler: Broadcasting large task binary with size 4.1 MiB\n",
      "21/10/03 10:51:57 WARN DAGScheduler: Broadcasting large task binary with size 4.1 MiB\n",
      "21/10/03 10:51:57 WARN DAGScheduler: Broadcasting large task binary with size 4.1 MiB\n",
      "21/10/03 10:51:57 WARN DAGScheduler: Broadcasting large task binary with size 4.1 MiB\n",
      "21/10/03 10:51:58 WARN DAGScheduler: Broadcasting large task binary with size 4.1 MiB\n",
      "21/10/03 10:51:58 WARN DAGScheduler: Broadcasting large task binary with size 4.1 MiB\n",
      "21/10/03 10:51:59 WARN DAGScheduler: Broadcasting large task binary with size 4.1 MiB\n",
      "21/10/03 10:51:59 WARN DAGScheduler: Broadcasting large task binary with size 4.1 MiB\n",
      "21/10/03 10:51:59 WARN DAGScheduler: Broadcasting large task binary with size 4.1 MiB\n",
      "21/10/03 10:52:00 WARN DAGScheduler: Broadcasting large task binary with size 4.1 MiB\n",
      "21/10/03 10:52:00 WARN DAGScheduler: Broadcasting large task binary with size 4.1 MiB\n",
      "21/10/03 10:52:01 WARN DAGScheduler: Broadcasting large task binary with size 4.1 MiB\n",
      "21/10/03 10:52:01 WARN DAGScheduler: Broadcasting large task binary with size 4.1 MiB\n",
      "21/10/03 10:52:02 WARN DAGScheduler: Broadcasting large task binary with size 4.1 MiB\n",
      "21/10/03 10:52:02 WARN DAGScheduler: Broadcasting large task binary with size 4.1 MiB\n",
      "21/10/03 10:52:03 WARN DAGScheduler: Broadcasting large task binary with size 4.1 MiB\n",
      "21/10/03 10:52:03 WARN DAGScheduler: Broadcasting large task binary with size 4.1 MiB\n"
     ]
    }
   ],
   "metadata": {}
  },
  {
   "cell_type": "code",
   "execution_count": 8,
   "source": [
    "# Evaluate model\n",
    "trained_df = model.transform(trainingData)\n",
    "val_df = model.transform(validationData)\n",
    "test_df = model.transform(testData)\n",
    "\n",
    "trained_df.show()\n",
    "val_df.show()\n",
    "test_df.show()\n",
    "\n",
    "evaluator = MulticlassClassificationEvaluator(labelCol=\"status\", metricName=\"accuracy\")\n",
    "accuracy_val = evaluator.evaluate(val_df)\n",
    "accuracy_test = evaluator.evaluate(test_df)\n",
    "\n",
    "print(f\"Validation accuracy: {accuracy_val*100:.5f}%\")\n",
    "print(f\"Test accuracy: {accuracy_test*100:.5f}%\")"
   ],
   "outputs": [
    {
     "output_type": "stream",
     "name": "stderr",
     "text": [
      "21/10/03 10:52:06 WARN DAGScheduler: Broadcasting large task binary with size 4.3 MiB\n",
      "Traceback (most recent call last):\n",
      "  File \"/opt/spark/python/lib/pyspark.zip/pyspark/daemon.py\", line 186, in manager\n",
      "  File \"/opt/spark/python/lib/pyspark.zip/pyspark/daemon.py\", line 74, in worker\n",
      "  File \"/opt/spark/python/lib/pyspark.zip/pyspark/worker.py\", line 643, in main\n",
      "    if read_int(infile) == SpecialLengths.END_OF_STREAM:\n",
      "  File \"/opt/spark/python/lib/pyspark.zip/pyspark/serializers.py\", line 564, in read_int\n",
      "    raise EOFError\n",
      "EOFError\n"
     ]
    },
    {
     "output_type": "stream",
     "name": "stdout",
     "text": [
      "+--------------------+------+--------------------+--------------------+--------------------+--------------------+--------------------+--------------------+----------+\n",
      "|             content|status|            content1|            content2|      term_frequency|            features|       rawPrediction|         probability|prediction|\n",
      "+--------------------+------+--------------------+--------------------+--------------------+--------------------+--------------------+--------------------+----------+\n",
      "| Nam Mô A Di Đà Phật|     1|[nam_mô, a_di_đà_...|[nam_mô, a_di_đà_...|(262144,[8054,134...|(262144,[8054,134...|[-2.7926204852071...|[0.05772425610561...|       1.0|\n",
      "|giữ vững top nào ...|     1|[giữ, vững, top, ...|    [vững, top, đóm]|(262144,[18176,12...|(262144,[18176,12...|[-3.3855588792022...|[0.03274984643754...|       1.0|\n",
      "|Greetings from Ge...|     1|[greetings, from,...|[greetings, from,...|(262144,[44462,63...|(262144,[44462,63...|[-2.3368209573046...|[0.08811902957766...|       1.0|\n",
      "|Hai chữ duyên phậ...|     1|[hai, chữ, duyên_...|[hai, chữ, duyên_...|(262144,[70463,15...|(262144,[70463,15...|[-3.5300957654072...|[0.02846793893726...|       1.0|\n",
      "|mong năm nay hết ...|     1|[mong, năm, nay, ...|[mong, dịch_bệnh,...|(262144,[129457,1...|(262144,[129457,1...|[-3.6444552078350...|[0.02546997037992...|       1.0|\n",
      "|        Chúc mừng em|     1|     [chúc_mừng, em]|         [chúc_mừng]|(262144,[47260],[...|(262144,[47260],[...|[-2.3878270587655...|[0.08410566649869...|       1.0|\n",
      "|        hay quá đỉnh|     1|    [hay, quá, đỉnh]|              [đỉnh]|(262144,[188432],...|(262144,[188432],...|[-2.4426662356538...|[0.07997651000841...|       1.0|\n",
      "|có sao đâu quan t...|     1|[có, sao, đâu, qu...|              [lượt]|(262144,[218420],...|(262144,[218420],...|[-1.6718519750606...|[0.15817741866357...|       1.0|\n",
      "|MV dễ thương lắm ...|     1|[mv, dễ_thương, l...|[mv, dễ_thương, l...|(262144,[39795,46...|(262144,[39795,46...|[-5.6067021320062...|[0.00365972026276...|       1.0|\n",
      "|  con tim hay lý trí|     1|[con, tim, hay, l...|       [tim, lý_trí]|(262144,[162534,2...|(262144,[162534,2...|[-2.5740159088697...|[0.07082955022809...|       1.0|\n",
      "|là con gái cứ phả...|     1|[là, con_gái, cứ,...|[con_gái, bận_lòn...|(262144,[83561,14...|(262144,[83561,14...|[-9.3966611149581...|[8.29938447756510...|       1.0|\n",
      "|             Ghé Qua|     1|          [ghé, qua]|               [ghé]|(262144,[225096],...|(262144,[225096],...|[-1.2496714046320...|[0.22275702543944...|       1.0|\n",
      "|hình như là nhật bản|     1|[hình_như, là, nh...|[hình_như, nhật_bản]|(262144,[109959,2...|(262144,[109959,2...|[-1.6554205294678...|[0.16037769462140...|       1.0|\n",
      "|nhảy chẳng hợp nh...|     1|[nhảy, chẳng, hợp...|[nhảy, chẳng, hợp...|(262144,[13227,12...|(262144,[13227,12...|[-3.4353369533446...|[0.03120916430499...|       1.0|\n",
      "|Quá hay Lee làm t...|     1|[quá, hay, lee, l...|[lee, nhân_gian, đi]|(262144,[57665,73...|(262144,[57665,73...|[-5.7769905876547...|[0.00308845651279...|       1.0|\n",
      "|     giống mình haha|     1| [giống, mình, haha]|              [haha]|(262144,[86553],[...|(262144,[86553],[...|[-0.6037009932749...|[0.35349742200710...|       1.0|\n",
      "|nó vụ vụ CH bỏ nó...|     1|[nó, vụ, vụ, ch, ...|  [vụ, vụ, ch, b, n]|(262144,[52644,69...|(262144,[52644,69...|[1.31384290241250...|[0.78815550199815...|       0.0|\n",
      "|  soái ca thái quynh|     1|[soái, ca, thái, ...|[soái, ca, thái, ...|(262144,[8718,674...|(262144,[8718,674...|[-3.1467775910617...|[0.04121843802005...|       1.0|\n",
      "|em bước đi thật v...|     1|[em, bước_đi, thậ...|          [vội_vàng]|(262144,[15717],[...|(262144,[15717],[...|[-3.5116866891504...|[0.02898153197152...|       1.0|\n",
      "|hay quá mê nhất g...|     1|[hay, quá, mê, nh...|[mê, giọng, vũ_kỳ...|(262144,[20130,54...|(262144,[20130,54...|[-4.4394619012247...|[0.01166461842638...|       1.0|\n",
      "+--------------------+------+--------------------+--------------------+--------------------+--------------------+--------------------+--------------------+----------+\n",
      "only showing top 20 rows\n",
      "\n"
     ]
    },
    {
     "output_type": "stream",
     "name": "stderr",
     "text": [
      "21/10/03 10:52:08 WARN DAGScheduler: Broadcasting large task binary with size 4.3 MiB\n"
     ]
    },
    {
     "output_type": "stream",
     "name": "stdout",
     "text": [
      "+--------------------+------+--------------------+--------------------+--------------------+--------------------+--------------------+--------------------+----------+\n",
      "|             content|status|            content1|            content2|      term_frequency|            features|       rawPrediction|         probability|prediction|\n",
      "+--------------------+------+--------------------+--------------------+--------------------+--------------------+--------------------+--------------------+----------+\n",
      "|Xuất sắc luôn anh ưi|     1|[xuất_sắc, luôn, ...|      [xuất_sắc, ưi]|(262144,[167020,1...|(262144,[167020,1...|[-3.2479173176371...|[0.03740179775665...|       1.0|\n",
      "|             hay quá|     1|          [hay, quá]|                  []|      (262144,[],[])|      (262144,[],[])|[-1.6662584397762...|[0.15892366371991...|       1.0|\n",
      "|   hay quá đi anh ơi|     1|[hay, quá, đi, an...|                [đi]|(262144,[95276],[...|(262144,[95276],[...|[-2.1966578547489...|[0.10005101659639...|       1.0|\n",
      "|ý Đ nói những sự ...|     1|[ý, đ, nói, những...|[đ, ý_thức, đứa, ...|(262144,[6044,483...|(262144,[6044,483...|[-1.2896004454900...|[0.21592044724667...|       1.0|\n",
      "|                 wow|     1|               [wow]|               [wow]|(262144,[4631],[1...|(262144,[4631],[6...|[-1.1915859806309...|[0.23297540440329...|       1.0|\n",
      "|       Còn nhar kaka|     1|   [còn, nhar, kaka]|        [nhar, kaka]|(262144,[154990,1...|(262144,[154990,1...|[-1.4838530579333...|[0.18484614292275...|       1.0|\n",
      "|             hay quá|     1|          [hay, quá]|                  []|      (262144,[],[])|      (262144,[],[])|[-1.6662584397762...|[0.15892366371991...|       1.0|\n",
      "|     bài hay quá nhỉ|     1|[bài, hay, quá, nhỉ]|                  []|      (262144,[],[])|      (262144,[],[])|[-1.6662584397762...|[0.15892366371991...|       1.0|\n",
      "|                 hay|     1|               [hay]|                  []|      (262144,[],[])|      (262144,[],[])|[-1.6662584397762...|[0.15892366371991...|       1.0|\n",
      "|hay quá giọng ấm ghê|     1|[hay, quá, giọng,...|    [giọng, ấm, ghê]|(262144,[87310,15...|(262144,[87310,15...|[-4.0352684402373...|[0.01737374910477...|       1.0|\n",
      "|Hay nhưng không c...|     1|[hay, nhưng, khôn...|                  []|      (262144,[],[])|      (262144,[],[])|[-1.6662584397762...|[0.15892366371991...|       1.0|\n",
      "|         Là ai vậy ạ|     1|    [là, ai, vậy, ạ]|                  []|      (262144,[],[])|      (262144,[],[])|[-1.6662584397762...|[0.15892366371991...|       1.0|\n",
      "| nhứt kiểm bà vuoong|     1|[nhứt, kiểm, bà, ...|[nhứt, kiểm, vuoong]|(262144,[140083,1...|(262144,[140083,1...|[-2.8608927965281...|[0.05412097833439...|       1.0|\n",
      "|chất chơi người d...|     1|[chất, chơi, ngườ...|         [chất, dơi]|(262144,[104629,1...|(262144,[104629,1...|[-2.4887988451392...|[0.07664716271809...|       1.0|\n",
      "|Nhạc bài này rất ...|     1|[nhạc, bài, này, ...|[nhạc, mê, phim, ...|(262144,[6913,201...|(262144,[6913,201...|[-6.6124468034075...|[0.00134173806451...|       1.0|\n",
      "|                á đù|     1|             [á, đù]|                [đù]|(262144,[109748],...|(262144,[109748],...|[-0.4136178857079...|[0.39804493812355...|       1.0|\n",
      "|cố gắng vượt qua ...|     1|[cố_gắng, vượt, q...|[cố_gắng, đợt, dịch]|(262144,[14989,12...|(262144,[14989,12...|[-4.0379251747559...|[0.01732845170099...|       1.0|\n",
      "|anh ơi em tải đc ...|     1|[anh, ơi, em, tải...|           [tải, đc]|(262144,[141068,2...|(262144,[141068,2...|[-2.3670299652555...|[0.08572162501298...|       1.0|\n",
      "|          Hai va bai|     1|      [hai, va, bai]|      [hai, va, bai]|(262144,[36101,15...|(262144,[36101,15...|[-2.2492564219385...|[0.09541362371596...|       1.0|\n",
      "|            Việt Nam|     1|          [việt_nam]|          [việt_nam]|(262144,[192112],...|(262144,[192112],...|[-1.4135171502634...|[0.19567990206323...|       1.0|\n",
      "+--------------------+------+--------------------+--------------------+--------------------+--------------------+--------------------+--------------------+----------+\n",
      "only showing top 20 rows\n",
      "\n"
     ]
    },
    {
     "output_type": "stream",
     "name": "stderr",
     "text": [
      "21/10/03 10:52:12 WARN DAGScheduler: Broadcasting large task binary with size 4.3 MiB\n"
     ]
    },
    {
     "output_type": "stream",
     "name": "stdout",
     "text": [
      "+--------------------+------+--------------------+--------------------+--------------------+--------------------+--------------------+--------------------+----------+\n",
      "|             content|status|            content1|            content2|      term_frequency|            features|       rawPrediction|         probability|prediction|\n",
      "+--------------------+------+--------------------+--------------------+--------------------+--------------------+--------------------+--------------------+----------+\n",
      "| Nam Mô A Di Đà Phật|     1|[nam_mô, a_di_đà_...|[nam_mô, a_di_đà_...|(262144,[8054,134...|(262144,[8054,134...|[-2.7926204852071...|[0.05772425610561...|       1.0|\n",
      "|       Cmt gì thế bà|     1|  [cmt, gì, thế, bà]|               [cmt]|(262144,[244099],...|(262144,[244099],...|[-1.7383795481873...|[0.14951887900978...|       1.0|\n",
      "|      hay lắm ok đấy|     1| [hay, lắm, ok, đấy]|      [lắm, ok, đấy]|(262144,[39795,19...|(262144,[39795,19...|[-3.2380505499560...|[0.03775865596950...|       1.0|\n",
      "|biết gì về người ...|     1|[biết, gì, về, ng...|[v, thằng, não, hẹp]|(262144,[3167,690...|(262144,[3167,690...|[-0.1630032192140...|[0.45933918534142...|       1.0|\n",
      "|     con hat hay lam|     1|[con, hat, hay, lam]|          [hat, lam]|(262144,[717,2114...|(262144,[717,2114...|[-2.6474973443547...|[0.06614342696535...|       1.0|\n",
      "|    tuyệt vời sếp ơi|     1|[tuyệt_vời, sếp, ơi]|    [tuyệt_vời, sếp]|(262144,[75304,13...|(262144,[75304,13...|[-2.7565214712396...|[0.05971939687689...|       1.0|\n",
      "|                 hay|     1|               [hay]|                  []|      (262144,[],[])|      (262144,[],[])|[-1.6662584397762...|[0.15892366371991...|       1.0|\n",
      "| hay quá nghiện luôn|     1|[hay, quá, nghiện...|            [nghiện]|(262144,[169438],...|(262144,[169438],...|[-3.1162770443033...|[0.04244081376897...|       1.0|\n",
      "|           không hay|     1|        [không, hay]|                  []|      (262144,[],[])|      (262144,[],[])|[-1.6662584397762...|[0.15892366371991...|       1.0|\n",
      "|QUANG Hà thần tượ...|     1|[quang, hà_thần_t...|[quang, hà_thần_t...|(262144,[20130,95...|(262144,[20130,95...|[-3.5437645920334...|[0.02809231997589...|       1.0|\n",
      "|    so chill bigbang|     1|[so, chill, bigbang]|    [chill, bigbang]|(262144,[9912,216...|(262144,[9912,216...|[-3.4876003842145...|[0.02966710393178...|       1.0|\n",
      "|bài này hay ma sa...|     1|[bài, này, hay, m...|[ma_sao, dươc, le...|(262144,[18176,50...|(262144,[18176,50...|[-10.838940313974...|[1.96200229482911...|       1.0|\n",
      "|lên top trending nào|     1|[lên, top, trendi...|     [top, trending]|(262144,[18176,36...|(262144,[18176,36...|[-2.7860640678198...|[0.05808190967362...|       1.0|\n",
      "|  lâu r mới nghe lại|     1|[lâu, r, mới, ngh...|                 [r]|(262144,[212482],...|(262144,[212482],...|[-1.6580074611146...|[0.16002965294583...|       1.0|\n",
      "|theo dõi somi từ ...|     1|[theo_dõi, somi, ...|[theo_dõi, somi, ...|(262144,[43869,10...|(262144,[43869,10...|[-1.1925653270428...|[0.23280044305810...|       1.0|\n",
      "|hay vãi ra thích ...|     1|[hay, vãi, ra, th...|    [vãi, đoạn, rap]|(262144,[76042,11...|(262144,[76042,11...|[-2.6951217462812...|[0.06326182507263...|       1.0|\n",
      "|             hay ghê|     1|          [hay, ghê]|               [ghê]|(262144,[154715],...|(262144,[154715],...|[-2.3539760825097...|[0.08675025069327...|       1.0|\n",
      "|Hồi moi nge ghiền...|     1|[hồi, moi, nge, g...|[hồi, moi, nge, g...|(262144,[8195,389...|(262144,[8195,389...|[-5.8759505835544...|[0.00279827316398...|       1.0|\n",
      "|Vậy là bạn không ...|     1|[vậy, là, bạn, kh...|[đời, ami, chúc_m...|(262144,[47260,77...|(262144,[47260,77...|[-4.1353507571284...|[0.01574517663902...|       1.0|\n",
      "|Fan St thì ra mà ...|     1|[fan, st, thì, ra...|   [fan, st, st_hát]|(262144,[110510,1...|(262144,[110510,1...|[-1.8629452749049...|[0.13436012539062...|       1.0|\n",
      "+--------------------+------+--------------------+--------------------+--------------------+--------------------+--------------------+--------------------+----------+\n",
      "only showing top 20 rows\n",
      "\n"
     ]
    },
    {
     "output_type": "stream",
     "name": "stderr",
     "text": [
      "21/10/03 10:52:15 WARN DAGScheduler: Broadcasting large task binary with size 4.3 MiB\n",
      "21/10/03 10:52:33 WARN DAGScheduler: Broadcasting large task binary with size 4.3 MiB\n"
     ]
    },
    {
     "output_type": "stream",
     "name": "stdout",
     "text": [
      "Validation accuracy: 87.31911%\n",
      "Test accuracy: 87.18459%\n"
     ]
    },
    {
     "output_type": "stream",
     "name": "stderr",
     "text": []
    }
   ],
   "metadata": {}
  },
  {
   "cell_type": "code",
   "execution_count": 9,
   "source": [
    "# Save model\n",
    "model.write().overwrite().save('./model_lr/')"
   ],
   "outputs": [
    {
     "output_type": "stream",
     "name": "stderr",
     "text": [
      "21/10/03 10:52:48 WARN TaskSetManager: Stage 131 contains a task of very large size (4184 KiB). The maximum recommended task size is 1000 KiB.\n"
     ]
    }
   ],
   "metadata": {}
  }
 ],
 "metadata": {
  "kernelspec": {
   "name": "python3",
   "display_name": "Python 3.8.10 64-bit"
  },
  "language_info": {
   "codemirror_mode": {
    "name": "ipython",
    "version": 3
   },
   "file_extension": ".py",
   "mimetype": "text/x-python",
   "name": "python",
   "nbconvert_exporter": "python",
   "pygments_lexer": "ipython3",
   "version": "3.8.10"
  },
  "interpreter": {
   "hash": "916dbcbb3f70747c44a77c7bcd40155683ae19c65e1c03b4aa3499c5328201f1"
  }
 },
 "nbformat": 4,
 "nbformat_minor": 5
}